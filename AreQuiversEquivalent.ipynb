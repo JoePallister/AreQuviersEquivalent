{
 "cells": [
  {
   "cell_type": "code",
   "execution_count": 1,
   "id": "4e3008cb",
   "metadata": {},
   "outputs": [],
   "source": [
    "import numpy as np\n",
    "import itertools\n",
    "from tqdm import tqdm"
   ]
  },
  {
   "cell_type": "markdown",
   "id": "6ec1df5a",
   "metadata": {},
   "source": [
    "# Quiver mutation and mutation sequences\n",
    "\n",
    "Functions to do a single mutation and a sequence of mutations. We need the max_plus for this too"
   ]
  },
  {
   "cell_type": "code",
   "execution_count": 2,
   "id": "d643f9dd",
   "metadata": {},
   "outputs": [],
   "source": [
    "def max_plus(num):\n",
    "    if num <= 0:\n",
    "        return 0\n",
    "    return num\n",
    "\n",
    "def mutate(quiver, vertex):\n",
    "    dim = quiver.shape[0]\n",
    "    result = np.zeros(shape=(dim, dim))\n",
    "    for i in range(dim):\n",
    "        for j in range(dim):\n",
    "            if (i == vertex or j == vertex):\n",
    "                result[i,j] = -quiver[i,j]\n",
    "            else:\n",
    "                result[i,j] = quiver[i,j]+np.sign(quiver[i,vertex])*max_plus(quiver[i,vertex]*quiver[vertex,j])\n",
    "    return np.array(result)\n",
    "\n",
    "def mutation_sequence(quiver, sequence):\n",
    "    current_quiver = quiver\n",
    "    for vertex in sequence:\n",
    "        current_quiver = mutate(current_quiver, vertex)\n",
    "    return current_quiver"
   ]
  },
  {
   "cell_type": "code",
   "execution_count": 3,
   "id": "6feac026",
   "metadata": {},
   "outputs": [
    {
     "data": {
      "text/plain": [
       "array([[ 0., -1., -0.,  0.],\n",
       "       [ 1.,  0.,  1.,  0.],\n",
       "       [-0., -1., -0., -1.],\n",
       "       [ 0.,  0.,  1.,  0.]])"
      ]
     },
     "execution_count": 3,
     "metadata": {},
     "output_type": "execute_result"
    }
   ],
   "source": [
    "test1 = np.array([\n",
    "    [ 0., -1.,  0.,  0.],\n",
    "    [ 1.,  0., -1.,  0.],\n",
    "    [ 0.,  1.,  0.,  1.],\n",
    "    [ 0.,  0., -1.,  0.]\n",
    "])\n",
    "\n",
    "mutate(test1, 2)"
   ]
  },
  {
   "cell_type": "code",
   "execution_count": 4,
   "id": "6a82da35",
   "metadata": {
    "scrolled": true
   },
   "outputs": [
    {
     "data": {
      "text/plain": [
       "array([[ 0., -0.,  1.,  0.],\n",
       "       [-0., -0.,  1., -1.],\n",
       "       [-1., -1.,  0.,  0.],\n",
       "       [ 0.,  1.,  0.,  0.]])"
      ]
     },
     "execution_count": 4,
     "metadata": {},
     "output_type": "execute_result"
    }
   ],
   "source": [
    "mutation_sequence(test1, [1,2,1])"
   ]
  },
  {
   "cell_type": "markdown",
   "id": "123ed628",
   "metadata": {},
   "source": [
    "# Permutations\n",
    "\n",
    "A function to return all permutations which, applied to the first quiver, give the second. We can use the same quiver for both arguments to find permutation which fix it quiver"
   ]
  },
  {
   "cell_type": "code",
   "execution_count": 5,
   "id": "7dadd8a1",
   "metadata": {},
   "outputs": [],
   "source": [
    "def which_permutation(quiver1, quiver2):\n",
    "    dim = quiver1.shape[0]\n",
    "    permutation_mats = list(itertools.permutations(np.eye(dim)))\n",
    "    permutation_mats = [np.array(mat) for mat in permutation_mats]\n",
    "    pairs = [[np.matmul(np.matmul(mat, quiver1), np.linalg.inv(mat)), mat] for mat in permutation_mats]\n",
    "    return [pair[1] for pair in pairs if np.array_equal(pair[0], quiver2)]"
   ]
  },
  {
   "cell_type": "code",
   "execution_count": 6,
   "id": "664c01b4",
   "metadata": {},
   "outputs": [],
   "source": [
    "test2 = np.array([\n",
    "    [0, 1, -1, 0, -1, 1],\n",
    "    [-1, 0, 2, -1, 1, -1],\n",
    "    [1, -2, 0, 1, 1, -1],\n",
    "    [0, 1, -1, 0, -1, 1],\n",
    "    [1, -1, -1, 1, 0, 0],\n",
    "    [-1, 1, 1, -1, 0, 0]\n",
    "])\n",
    "\n",
    "test3 = np.array([\n",
    "    [ 0.,  1., -1., -1.,  1.,  0.],\n",
    "    [-1.,  0.,  2.,  1., -1., -1.],\n",
    "    [ 1., -2.,  0.,  1., -1.,  1.],\n",
    "    [ 1., -1., -1.,  0.,  0.,  1.],\n",
    "    [-1.,  1.,  1.,  0.,  0., -1.],\n",
    "    [ 0.,  1., -1., -1.,  1.,  0.]\n",
    "])"
   ]
  },
  {
   "cell_type": "code",
   "execution_count": 7,
   "id": "e74e89f2",
   "metadata": {},
   "outputs": [
    {
     "data": {
      "text/plain": [
       "[array([[1., 0., 0., 0., 0., 0.],\n",
       "        [0., 1., 0., 0., 0., 0.],\n",
       "        [0., 0., 1., 0., 0., 0.],\n",
       "        [0., 0., 0., 0., 1., 0.],\n",
       "        [0., 0., 0., 0., 0., 1.],\n",
       "        [0., 0., 0., 1., 0., 0.]]),\n",
       " array([[0., 0., 0., 1., 0., 0.],\n",
       "        [0., 1., 0., 0., 0., 0.],\n",
       "        [0., 0., 1., 0., 0., 0.],\n",
       "        [0., 0., 0., 0., 1., 0.],\n",
       "        [0., 0., 0., 0., 0., 1.],\n",
       "        [1., 0., 0., 0., 0., 0.]])]"
      ]
     },
     "execution_count": 7,
     "metadata": {},
     "output_type": "execute_result"
    }
   ],
   "source": [
    "# Two permutations can be applied to test2 to give test3\n",
    "which_permutation(test2, test3)"
   ]
  },
  {
   "cell_type": "code",
   "execution_count": 8,
   "id": "b93d25a5",
   "metadata": {
    "scrolled": true
   },
   "outputs": [
    {
     "data": {
      "text/plain": [
       "[array([[1., 0., 0., 0., 0., 0.],\n",
       "        [0., 1., 0., 0., 0., 0.],\n",
       "        [0., 0., 1., 0., 0., 0.],\n",
       "        [0., 0., 0., 1., 0., 0.],\n",
       "        [0., 0., 0., 0., 1., 0.],\n",
       "        [0., 0., 0., 0., 0., 1.]]),\n",
       " array([[0., 0., 0., 1., 0., 0.],\n",
       "        [0., 1., 0., 0., 0., 0.],\n",
       "        [0., 0., 1., 0., 0., 0.],\n",
       "        [1., 0., 0., 0., 0., 0.],\n",
       "        [0., 0., 0., 0., 1., 0.],\n",
       "        [0., 0., 0., 0., 0., 1.]])]"
      ]
     },
     "execution_count": 8,
     "metadata": {},
     "output_type": "execute_result"
    }
   ],
   "source": [
    "# Two permutations can be applied to test2 to give itself (including the identity)\n",
    "which_permutation(test2, test2)"
   ]
  },
  {
   "cell_type": "markdown",
   "id": "03592743",
   "metadata": {},
   "source": [
    "# Are quivers equivalent"
   ]
  },
  {
   "cell_type": "code",
   "execution_count": 9,
   "id": "4f8e6e29",
   "metadata": {},
   "outputs": [],
   "source": [
    "def are_equivalent(quiver1, quiver2, depth, early_stop=True):\n",
    "    '''\n",
    "    We create a list of all possible permutations of quiver2. We then perform all possible sequences of mutations of quiver1\n",
    "    with length <= the depth parameter, that give a permutation of quiver2, using our list. \n",
    "    early_stop=True will quit as soon as we find the first sequence that works. Otherwise we find all possibilities\n",
    "    '''\n",
    "    dim = quiver1.shape[0]\n",
    "    permutation_mats = list(itertools.permutations(np.eye(dim)))\n",
    "    permutation_mats = [np.array(mat) for mat in permutation_mats]\n",
    "    quiver2_permutations = [{'permuted_quiver_2' : np.matmul(np.matmul(mat, quiver2), np.linalg.inv(mat)),'permutation_mat': mat} for mat in permutation_mats]\n",
    "    \n",
    "    total_check = (dim**depth-1) // (dim-1) # This is the number of seeds we actually check, as a function of the depth\n",
    "    found_pairs = []\n",
    "    pairs_to_check = [[quiver1, \"\"]]\n",
    "    mutation_sequences = []\n",
    "    for i in tqdm(range(1, total_check+1)):\n",
    "        current_quiver = pairs_to_check[0][0] # Take the first quiver to check\n",
    "        if any((current_quiver == quiver).all() for quiver in [quiver2_permutations[0]['permuted_quiver_2'] for quiver in quiver2_permutations]):\n",
    "            if early_stop:\n",
    "                return pairs_to_check[0][1]\n",
    "            mutation_sequences.append(pairs_to_check[0][1])\n",
    "        if not any((current_quiver == quiver).all() for quiver in [pair[0] for pair in found_pairs]):\n",
    "            found_pairs.append(pairs_to_check[0])\n",
    "        for j in range(0, dim): # Now we look at the neighbours of current_quiver\n",
    "            next_quiver = mutate(current_quiver, j)\n",
    "            if not any((next_quiver == quiver).all() for quiver in [pair[0] for pair in found_pairs] + [pair[0] for pair in pairs_to_check]):\n",
    "                pairs_to_check.append([next_quiver, pairs_to_check[0][1]+str(j)+\",\"])  \n",
    "        pairs_to_check.pop(0) \n",
    "        if pairs_to_check == []:\n",
    "            return \"Ran out of quivers to check, so the pair of quivers are not mutation equivalent\"\n",
    "    if mutation_sequences:\n",
    "        return mutation_sequences\n",
    "    return \"Quivers are not mutation equivalent at this depth, but possibly are at larger depths\""
   ]
  },
  {
   "cell_type": "code",
   "execution_count": 10,
   "id": "3605a551",
   "metadata": {},
   "outputs": [],
   "source": [
    "test4 = np.array([\n",
    "    [0, 1, -1, 0, -1, 1],\n",
    "    [-1, 0, 2, -1, 1, -1],\n",
    "    [1, -2, 0, 1, 1, -1],\n",
    "    [0, 1, -1, 0, -1, 1],\n",
    "    [1, -1, -1, 1, 0, 0],\n",
    "    [-1, 1, 1, -1, 0, 0]\n",
    "])\n",
    "\n",
    "test5 = np.array([\n",
    "    [0, 0, -1, 1, 1, -1],\n",
    "    [0, 0, 1, -1, -1, 1],\n",
    "    [1, -1, 0, 0, -1, 1],\n",
    "    [-1, 1, 0, 0, 1, -1],\n",
    "    [-1, 1, 1, -1, 0, 0],\n",
    "    [1, -1, -1, 1, 0, 0]\n",
    "])"
   ]
  },
  {
   "cell_type": "code",
   "execution_count": 11,
   "id": "712b8d8c",
   "metadata": {},
   "outputs": [
    {
     "name": "stderr",
     "output_type": "stream",
     "text": [
      " 35%|███████████████████████████▋                                                   | 3277/9331 [02:52<05:17, 19.05it/s]\n"
     ]
    },
    {
     "data": {
      "text/plain": [
       "'0,2,1,5,3,5,'"
      ]
     },
     "execution_count": 11,
     "metadata": {},
     "output_type": "execute_result"
    }
   ],
   "source": [
    "are_equivalent(test4, test5, 6)"
   ]
  },
  {
   "cell_type": "code",
   "execution_count": 12,
   "id": "4c9c92af",
   "metadata": {},
   "outputs": [
    {
     "data": {
      "text/plain": [
       "array([[ 0.,  0., -1.,  1.,  1., -1.],\n",
       "       [ 0.,  0.,  1., -1., -1.,  1.],\n",
       "       [ 1., -1.,  0.,  0., -1.,  1.],\n",
       "       [-1.,  1.,  0.,  0.,  1., -1.],\n",
       "       [-1.,  1.,  1., -1.,  0., -0.],\n",
       "       [ 1., -1., -1.,  1., -0., -0.]])"
      ]
     },
     "execution_count": 12,
     "metadata": {},
     "output_type": "execute_result"
    }
   ],
   "source": [
    "# are_equivalent says that applying the following sequence to test4 should give test5 up to permutation.\n",
    "mutation_sequence(test4, [0,2,1,5,3,5])"
   ]
  },
  {
   "cell_type": "code",
   "execution_count": 13,
   "id": "982ddf89",
   "metadata": {},
   "outputs": [
    {
     "data": {
      "text/plain": [
       "[array([[1., 0., 0., 0., 0., 0.],\n",
       "        [0., 1., 0., 0., 0., 0.],\n",
       "        [0., 0., 1., 0., 0., 0.],\n",
       "        [0., 0., 0., 1., 0., 0.],\n",
       "        [0., 0., 0., 0., 1., 0.],\n",
       "        [0., 0., 0., 0., 0., 1.]]),\n",
       " array([[0., 1., 0., 0., 0., 0.],\n",
       "        [1., 0., 0., 0., 0., 0.],\n",
       "        [0., 0., 0., 1., 0., 0.],\n",
       "        [0., 0., 1., 0., 0., 0.],\n",
       "        [0., 0., 0., 0., 0., 1.],\n",
       "        [0., 0., 0., 0., 1., 0.]]),\n",
       " array([[0., 0., 1., 0., 0., 0.],\n",
       "        [0., 0., 0., 1., 0., 0.],\n",
       "        [0., 0., 0., 0., 1., 0.],\n",
       "        [0., 0., 0., 0., 0., 1.],\n",
       "        [1., 0., 0., 0., 0., 0.],\n",
       "        [0., 1., 0., 0., 0., 0.]]),\n",
       " array([[0., 0., 0., 1., 0., 0.],\n",
       "        [0., 0., 1., 0., 0., 0.],\n",
       "        [0., 0., 0., 0., 0., 1.],\n",
       "        [0., 0., 0., 0., 1., 0.],\n",
       "        [0., 1., 0., 0., 0., 0.],\n",
       "        [1., 0., 0., 0., 0., 0.]]),\n",
       " array([[0., 0., 0., 0., 1., 0.],\n",
       "        [0., 0., 0., 0., 0., 1.],\n",
       "        [1., 0., 0., 0., 0., 0.],\n",
       "        [0., 1., 0., 0., 0., 0.],\n",
       "        [0., 0., 1., 0., 0., 0.],\n",
       "        [0., 0., 0., 1., 0., 0.]]),\n",
       " array([[0., 0., 0., 0., 0., 1.],\n",
       "        [0., 0., 0., 0., 1., 0.],\n",
       "        [0., 1., 0., 0., 0., 0.],\n",
       "        [1., 0., 0., 0., 0., 0.],\n",
       "        [0., 0., 0., 1., 0., 0.],\n",
       "        [0., 0., 1., 0., 0., 0.]])]"
      ]
     },
     "execution_count": 13,
     "metadata": {},
     "output_type": "execute_result"
    }
   ],
   "source": [
    "# Actually in this case the permutation is the identity, which we can see by eye or by which_permutation\n",
    "# this also gives the permuations that fix test5\n",
    "which_permutation(mutation_sequence(test4, [0,2,1,5,3,5]), test5)"
   ]
  }
 ],
 "metadata": {
  "kernelspec": {
   "display_name": "Python 3 (ipykernel)",
   "language": "python",
   "name": "python3"
  },
  "language_info": {
   "codemirror_mode": {
    "name": "ipython",
    "version": 3
   },
   "file_extension": ".py",
   "mimetype": "text/x-python",
   "name": "python",
   "nbconvert_exporter": "python",
   "pygments_lexer": "ipython3",
   "version": "3.10.12"
  }
 },
 "nbformat": 4,
 "nbformat_minor": 5
}
