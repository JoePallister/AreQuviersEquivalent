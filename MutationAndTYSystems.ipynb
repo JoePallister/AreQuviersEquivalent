{
 "cells": [
  {
   "cell_type": "markdown",
   "id": "62f71484",
   "metadata": {},
   "source": [
    "# Introduction\n",
    "\n",
    "The following code can be used to \n",
    "\n",
    "* Apply mutations and sequences of mutations to quivers\n",
    "* Given two quivers, search for mutation sequences that can be applied to the first to give the second (allowing for possible relabelling of these quivers) \n",
    "* Search for mutation sequences that fix a quiver (up to permutation), proving periodicity\n",
    "* Given a mutation sequence that fixes a quiver (not up to permutation), generate T- and Y-systems\n",
    "* Given a mutate sequence that fixes a quiver (up to permutation), generate reduced T- and Y-systems\n",
    "\n",
    "Any comments or found errors can be sent to me at joepallister@gmail.com"
   ]
  },
  {
   "cell_type": "markdown",
   "id": "ce42fe1b",
   "metadata": {},
   "source": [
    "# Contents:\n",
    "* [Functions](#functions)\n",
    "* [Mutation and mutation sequences](#mutation)\n",
    "* [Mutation sequences between pairs of quivers](#findmutations)\n",
    "* [T-systems](#tsystems)\n",
    "* [Y-systems](#ysystems)\n",
    "* [T-systems examples](#tsystemsexample)\n",
    "* [Y-systems examples](#ysystemsexample)\n",
    "\n",
    "The functions section can be ignored by people not interested in the implementation here. \n",
    "\n",
    "\"Mutation and mutation sequences\" is two examples of how we apply single and sequences of mutations.\n",
    "\n",
    "In \"Mutation sequences between pairs of quivers\" we show how we can search for mutation sequences that get us from one quiver to another (up to permutation). We also note that if we apply this with the same quiver as both arguments then we can find mutation sequences that fix a quiver, so we are able to identify periodic quivers.\n",
    "\n",
    "In \"T-systems\" we show how we can generate T-systems from periodic quivers. We give a full presentation of these systems, but there is a convenient way to reduce these systems which we mainly focus on. \n",
    "\n",
    "\"Y-systems\" is analogous to \"T-systems\" "
   ]
  },
  {
   "cell_type": "code",
   "execution_count": 1,
   "id": "593279fc",
   "metadata": {},
   "outputs": [],
   "source": [
    "import itertools\n",
    "import numpy as np\n",
    "from tqdm import tqdm\n",
    "import timeit\n",
    "from IPython.display import display, Latex, Math"
   ]
  },
  {
   "cell_type": "markdown",
   "id": "9ce3aae7",
   "metadata": {},
   "source": [
    "# Functions <a class=\"anchor\" id=\"functions\"></a>"
   ]
  },
  {
   "cell_type": "markdown",
   "id": "a19f632c",
   "metadata": {},
   "source": [
    "## Cluster Algebra Functions"
   ]
  },
  {
   "cell_type": "code",
   "execution_count": 2,
   "id": "70785bad",
   "metadata": {},
   "outputs": [],
   "source": [
    "def max_plus(num):\n",
    "    if num <= 0:\n",
    "        return 0\n",
    "    return num\n",
    "\n",
    "def mutate(quiver, vertex):\n",
    "    dim = quiver.shape[0]\n",
    "    result = np.zeros(shape=np.shape(quiver))\n",
    "    for i in range(quiver.shape[0]):\n",
    "        for j in range(quiver.shape[1]):\n",
    "            if (i == vertex or j == vertex):\n",
    "                result[i,j] = -quiver[i,j]\n",
    "            else:\n",
    "                result[i,j] = quiver[i,j]+np.sign(quiver[i,vertex])*max_plus(quiver[i,vertex]*quiver[vertex,j])\n",
    "    return np.array(result)\n",
    "\n",
    "def mutation_sequence(quiver, sequence):\n",
    "    current_quiver = quiver\n",
    "    for vertex in sequence:\n",
    "        current_quiver = mutate(current_quiver, vertex)\n",
    "    return current_quiver\n",
    "\n",
    "def mutation_sequences_between_quivers(quiver1, quiver2, depth, early_stop=True):\n",
    "    '''\n",
    "    Return a list of all possible mutation sequences, up to length \"depth\", that can be apply to quiver1 to give a \n",
    "    relabelling of quiver2. If early_stop is true this will stop as soon as it finds a sequence, otherwise it\n",
    "    will search for all possibilities\n",
    "    '''\n",
    "    results = []\n",
    "    quiver2_permutations = get_permutations(quiver2)\n",
    "    pairs = {\"()\":quiver1}    \n",
    "    vertices = range(quiver1.shape[1])\n",
    "    \n",
    "    for i in tqdm(range(1, depth+1)):\n",
    "        combs = combinations_without_adjacent_duplicates(vertices, i)\n",
    "        for comb in combs:\n",
    "            previous_quiver = pairs[repr(comb[:-1])]\n",
    "            new_quiver = mutate(previous_quiver, comb[-1])\n",
    "            pairs[repr(comb)] = new_quiver\n",
    "            if any((new_quiver == quiver).all() for quiver in quiver2_permutations):\n",
    "                results.append(comb)\n",
    "                if early_stop:\n",
    "                    return results\n",
    "    return results"
   ]
  },
  {
   "cell_type": "markdown",
   "id": "7d0902fc",
   "metadata": {},
   "source": [
    "# Systems"
   ]
  },
  {
   "cell_type": "code",
   "execution_count": 3,
   "id": "5d6e1cff",
   "metadata": {},
   "outputs": [],
   "source": [
    "# For latex printing we sometimes need to use triple curly brackets, for example\n",
    "\n",
    "# f\"x_{{{variable_subscripts[row_idx]}}}\"\n",
    "\n",
    "# Here the inner brackets evaluate variable_subscripts[row_idx]. We want to have actual curly brackets appearing in the string\n",
    "# so our Latex will look like, for example, x_{12}, so we need to stop these curly brackets from evaluating, which is done with\n",
    "# a pair of brackets {{}}, hence we end up with triple {{{}}}\n",
    "\n",
    "# Note that for the fraction in the Y-system we need to escape the \\ in the \\frac in the f-string, this is done with \\\\\n",
    "\n",
    "def T_system(quiver, sequence):\n",
    "    if not sequence:\n",
    "        display(Latex(\"No system here due to trivial sequence\"))\n",
    "        return 0\n",
    "    current_quiver = quiver\n",
    "    dim = quiver.shape[0]\n",
    "    labelling_message = f\"We write the $j$th cluster variable that appears at vertex $i$ by $x_i(j)$\"\n",
    "    display(Latex(labelling_message))\n",
    "    frozen_vertices = list(set(range(dim))-set(sequence))\n",
    "    frozen_message = f\"The frozen vertices here are at vertices ${frozen_vertices}$ so we write the variables there as $c_i$, for $i \\in {frozen_vertices}$\"\n",
    "    if frozen_vertices:\n",
    "        display(Latex(frozen_message))\n",
    "    variable_subscripts = [0] * dim # The initial variable subscripts at each vertex\n",
    "    for idx, vertex in enumerate(sequence):\n",
    "        row = current_quiver[:,vertex]\n",
    "        positive_prod = \"\"\n",
    "        negative_prod = \"\"\n",
    "        for row_idx, row_val in enumerate(row):\n",
    "            # If row_val is +ve it contributes to positive_prod. If row_val = 1 we don't need to write the exponent in x^1\n",
    "            if row_val == 1:\n",
    "                if row_idx not in frozen_vertices:\n",
    "                    positive_prod += f\"x_{{{row_idx}}}({variable_subscripts[row_idx]})\"\n",
    "                else:\n",
    "                    positive_prod += f\"c_{{{row_idx}}}\"\n",
    "            elif row_val>0:\n",
    "                if row_idx not in frozen_vertices:   \n",
    "                    positive_prod += f\"x_{{{row_idx}}}({variable_subscripts[row_idx]})^{{{int(row_val)}}}\"\n",
    "                else:\n",
    "                    positive_prod += f\"c_{{{row_idx}}}^{{{int(row_val)}}}\"\n",
    "            # If row_val is ive it contributes to negative_prod. If row_val = -1 we don't need to write the exponent in x^1\n",
    "            elif row_val == -1:\n",
    "                if row_idx not in frozen_vertices:\n",
    "                    negative_prod += f\"x_{{{row_idx}}}({variable_subscripts[row_idx]})\"\n",
    "                else:\n",
    "                    negative_prod += f\"c_{{{row_idx}}}\"\n",
    "            elif row_val<0:\n",
    "                if row_idx not in frozen_vertices:\n",
    "                    negative_prod += f\"x_{{{row_idx}}}({variable_subscripts[row_idx]})^{{{-int(row_val)}}}\"\n",
    "                else:\n",
    "                    negative_prod += f\"c_{{{row_idx}}}^{{{-int(row_val)}}}\"\n",
    "        # If the products are empty we need 1, instead of an empty string\n",
    "        if positive_prod == \"\":\n",
    "            positive_prod = \"1\"\n",
    "        if negative_prod == \"\":\n",
    "            negative_prod = \"1\"\n",
    "        equation = f'$x_{{{vertex}}}({variable_subscripts[vertex]+1})x_{{{vertex}}}({variable_subscripts[vertex]})={positive_prod}+{negative_prod}$'\n",
    "        display(Math(equation))\n",
    "        current_quiver = mutate(current_quiver, vertex)\n",
    "        variable_subscripts[vertex] += 1\n",
    "        \n",
    "    if np.array_equal(quiver[0:quiver.shape[1]], current_quiver[0:quiver.shape[1]]):\n",
    "        if len(set([var for var in variable_subscripts if var != 0])) == 1:\n",
    "            periodic_message = f\"This mutation sequence fixes the quiver, so the above equations hold for $n\\in Z$ \\\n",
    "                if we replace all $x_i(n)$ with $x_i(n+{[var for var in variable_subscripts if var != 0][0]})$\"\n",
    "            display(Latex(periodic_message))\n",
    "        else:\n",
    "            periodic_message = f\"This mutation sequence fixes the quiver but since we mutate at the non-frozen \\\n",
    "                vertices a different number of times the system is given by shifting each of the variables \\\n",
    "                $x_i(n)$ to $x_i(n+v_i)$ where the $v_i$ are given by ${variable_subscripts}$. \\\n",
    "                Any zeroes here correspond to the shifts for frozen vertices\"\n",
    "            display(Latex(periodic_message))\n",
    "    else:\n",
    "        non_periodic_message = f\"This mutation sequence doesn't fix the quiver, so we don't have a T-system here,\\\n",
    "            just a set of {len(sequence)} equations\"\n",
    "        display(Latex(non_periodic_message)) \n",
    "        \n",
    "def T_system_reduced(quiver, sequence, perm):\n",
    "    full_sequence = permuted_mutation_sequence(perm, sequence)\n",
    "    if not full_sequence:\n",
    "        display(Latex(\"No system here due to trivial sequence\"))\n",
    "        return 0\n",
    "    full_sequence = full_sequence + full_sequence\n",
    "    full_sequence_pairs = enumerate(full_sequence)\n",
    "    # If we don't do this the the enumerate object can only be used once\n",
    "    full_sequence_pairs = [pair for pair in full_sequence_pairs]\n",
    "    current_quiver = quiver\n",
    "    dim = quiver.shape[0]\n",
    "    labelling_message = f\"We have ${len(sequence)}$ sequences which we write as $w_i(n)$\"\n",
    "    display(Latex(labelling_message))\n",
    "    n_deep_frozen_vertices = dim - quiver.shape[1]\n",
    "    frozen_vertices = list(set(range(dim))-set(full_sequence))\n",
    "    frozen_message = f\"The frozen vertices here are at vertices ${frozen_vertices}$ so we write the variables there as $c_i$, for $i \\in {frozen_vertices}$\"\n",
    "    if frozen_vertices:\n",
    "        display(Latex(frozen_message))\n",
    "    for idx, vertex in enumerate(sequence):\n",
    "        row = current_quiver[:,vertex]\n",
    "        positive_prod = \"\"\n",
    "        negative_prod = \"\"\n",
    "        for row_idx, row_val in enumerate(row):\n",
    "            if row_val == 0:\n",
    "                continue\n",
    "            # If row_val is +ve it contributes to positive_prod. If row_val = 1 we don't need to write the exponent in x^1\n",
    "            next_mutate = 0\n",
    "            future_mutations = [pair for pair in full_sequence_pairs if pair[1] == row_idx and pair[0]>idx]\n",
    "            if future_mutations:\n",
    "                next_mutate = future_mutations[0][0]\n",
    "            which_sequence = next_mutate % len(sequence)\n",
    "            which_idx = next_mutate // len(sequence)\n",
    "                \n",
    "            if row_val == 1:\n",
    "                if future_mutations:\n",
    "                    positive_prod += f\"w_{{{which_sequence}}}({which_idx})\"\n",
    "                else:\n",
    "                    positive_prod += f\"c_{{{row_idx}}}\"\n",
    "            elif row_val>0:\n",
    "                if future_mutations:   \n",
    "                    positive_prod += f\"w_{{{which_sequence}}}({which_idx})^{{{int(row_val)}}}\"\n",
    "                else:\n",
    "                    positive_prod += f\"c_{{{row_idx}}}^{{{int(row_val)}}}\"\n",
    "            # If row_val is ive it contributes to negative_prod. If row_val = -1 we don't need to write the exponent in x^1\n",
    "            elif row_val == -1:\n",
    "                if row_idx not in frozen_vertices:\n",
    "                    negative_prod += f\"w_{{{which_sequence}}}({which_idx})\"\n",
    "                else:\n",
    "                    negative_prod += f\"c_{{{row_idx}}}\"\n",
    "            elif row_val<0:\n",
    "                if row_idx not in frozen_vertices:\n",
    "                    negative_prod += f\"w_{{{which_sequence}}}({which_idx})^{{{-int(row_val)}}}\"\n",
    "                else:\n",
    "                    negative_prod += f\"c_{{{row_idx}}}^{{{-int(row_val)}}}\"\n",
    "                    \n",
    "        # If the products are empty we need 1, instead of an empty string\n",
    "        if positive_prod == \"\":\n",
    "            positive_prod = \"1\"\n",
    "        if negative_prod == \"\":\n",
    "            negative_prod = \"1\"\n",
    "            \n",
    "        this_sequence = idx % len(sequence)\n",
    "        this_idx = idx // len(sequence)\n",
    "        next_mutation = [pair for pair in full_sequence_pairs if pair[1] == vertex and pair[0]>idx][0]        \n",
    "        next_sequence = next_mutation[0] % len(sequence)\n",
    "        next_idx = next_mutation[0] // len(sequence)\n",
    "        equation = f'$w_{{{next_sequence}}}({next_idx})w_{{{this_sequence}}}({this_idx})={positive_prod}+{negative_prod}$'\n",
    "        display(Math(equation))\n",
    "        current_quiver = mutate(current_quiver, vertex)\n",
    "    \n",
    "    final_quiver = 0\n",
    "    if n_deep_frozen_vertices:\n",
    "        final_quiver = perm.dot(current_quiver).dot(np.linalg.inv(perm[:-n_deep_frozen_vertices, :-n_deep_frozen_vertices]))\n",
    "    else:\n",
    "        final_quiver = perm.dot(current_quiver).dot(np.linalg.inv(perm))\n",
    "    if np.array_equal(final_quiver, quiver):\n",
    "        periodic_message = f\"This mutation sequence fixes the quiver, so the above equations hold for $n\\in Z$ \\\n",
    "            if we replace all $w_i(n)$ with $w_i(n+1)$\"\n",
    "        display(Latex(periodic_message))\n",
    "    else:\n",
    "        non_periodic_message = f\"This mutation sequence doesn't fix the quiver, so we don't have a T-system here,\\\n",
    "            just a set of {len(sequence)} equations\"\n",
    "        display(Latex(non_periodic_message))"
   ]
  },
  {
   "cell_type": "code",
   "execution_count": 39,
   "id": "ea25e9fb",
   "metadata": {},
   "outputs": [],
   "source": [
    "def Y_system(quiver, sequence):\n",
    "    # It's possible to obtain a trivial sequence (e.g. doing mutations [1,1]) so we exclude this\n",
    "    if not sequence:\n",
    "        display(Latex(\"No system here due to trivial sequence\"))\n",
    "        return 0\n",
    "    \n",
    "    num_rows = quiver.shape[0]\n",
    "    labelling_message = f\"We write the coefficient variable that appears at vertex $i$ at mutation $j$ by $y_i(j)$\"\n",
    "    display(Latex(labelling_message))\n",
    "    \n",
    "    # Collect all the quivers we obtain from doing the mutation sequence. Actually we need the whole list twice\n",
    "    # so we can see far enough ahead to write down the system\n",
    "    quivers = [quiver]\n",
    "    for vertex in sequence+sequence:\n",
    "        quivers.append(mutate(quivers[-1], vertex))\n",
    "\n",
    "    # enumerate(sequence) is Nakanishi's forward mutation points P_+\n",
    "    for idx, vertex in enumerate(sequence):\n",
    "        # This searches for the next time we mutate at the current vertex\n",
    "        next_mutate = \"\"\n",
    "        for next_idx, next_vertex in enumerate(sequence+sequence):\n",
    "            if next_idx <= idx:\n",
    "                continue\n",
    "            if next_vertex == vertex:\n",
    "                next_mutate = next_idx\n",
    "                break\n",
    "             \n",
    "        num_prod = \"\"\n",
    "        denom_prod = \"\"    \n",
    "        for quiver_idx, inner_vertex in enumerate(sequence+sequence):\n",
    "            if quiver_idx < idx:\n",
    "                continue\n",
    "            if quiver_idx >= next_mutate:\n",
    "                break\n",
    "            current_quiver = quivers[quiver_idx]\n",
    "            num_arrows = int(current_quiver[inner_vertex, vertex])\n",
    "            if num_arrows == 0:\n",
    "                continue\n",
    "                \n",
    "            elif num_arrows == -1:\n",
    "                num_prod += f\"(1+y_{{{inner_vertex}}}({quiver_idx}))\"\n",
    "            elif num_arrows < -1:\n",
    "                num_prod += f\"(1+y_{{{inner_vertex}}}({quiver_idx}))^{{{-num_arrows}}}\"\n",
    "            elif num_arrows == 1:\n",
    "                denom_prod += f\"(1+y_{{{inner_vertex}}}({quiver_idx})^{{-1}})\"\n",
    "            else:\n",
    "                denom_prod += f\"(1+y_{{{inner_vertex}}}({quiver_idx})^{{-1}})^{{{num_arrows}}}\"\n",
    "\n",
    "        if num_prod == \"\":\n",
    "            num_prod = \"1\"\n",
    "        equation = f'$y_{{{vertex}}}({next_mutate})y_{{{vertex}}}({idx})=\\\\dfrac{{{num_prod}}}{{{denom_prod}}}$'\n",
    "        if denom_prod == \"\":\n",
    "            equation = f'$y_{{{vertex}}}({next_mutate})y_{{{vertex}}}({idx})={num_prod}$'\n",
    "        display(Math(equation))\n",
    "\n",
    "        \n",
    "    if np.array_equal(quivers[0], quivers[-1]):\n",
    "        periodic_message = f\"This mutation sequence fixes the quiver, so the above equations hold for $n\\in Z$\"\n",
    "        display(Latex(periodic_message))\n",
    "    else:\n",
    "        non_periodic_message = f\"This mutation sequence doesn't fix the quiver, so we don't have a Y-system here,\\\n",
    "            just a set of {len(sequence)} equations\"\n",
    "        display(Latex(non_periodic_message)) \n",
    "        \n",
    "def Y_system_reduced(quiver, sequence, perm):\n",
    "    # It's possible to obtain a trivial sequence (e.g. doing mutations [1,1]) so we exclude this\n",
    "    if not sequence:\n",
    "        display(Latex(\"No system here due to trivial sequence\"))\n",
    "        return 0\n",
    "    \n",
    "    full_sequence = permuted_mutation_sequence(perm, sequence)\n",
    "    num_rows = quiver.shape[0]\n",
    "    labelling_message = f\"We write the sequences of coefficient variables as $v_i(j)$\"\n",
    "    display(Latex(labelling_message))\n",
    "    \n",
    "    # Collect all the quivers we obtain from doing the mutation sequence. Actually we need the whole list twice\n",
    "    # so we can see far enough ahead to write down the system\n",
    "    quivers = [quiver]\n",
    "    for vertex in full_sequence+full_sequence:\n",
    "        quivers.append(mutate(quivers[-1], vertex))\n",
    "\n",
    "    # enumerate(sequence) is Nakanishi's forward mutation points P_+\n",
    "    for idx, vertex in enumerate(sequence):\n",
    "        # This searches for the next time we mutate at the current vertex\n",
    "        next_mutate = \"\"\n",
    "        for next_idx, next_vertex in enumerate(full_sequence+full_sequence):\n",
    "            if next_idx <= idx:\n",
    "                continue\n",
    "            if next_vertex == vertex:\n",
    "                next_mutate = next_idx\n",
    "                break\n",
    "        num_prod = \"\"\n",
    "        denom_prod = \"\"    \n",
    "        for quiver_idx, inner_vertex in enumerate(full_sequence+full_sequence):\n",
    "            if quiver_idx < idx:\n",
    "                continue\n",
    "            if quiver_idx >= next_mutate:\n",
    "                break\n",
    "            which_sequence = quiver_idx % len(sequence)\n",
    "            which_idx = quiver_idx // len(sequence)\n",
    "            current_quiver = quivers[quiver_idx]\n",
    "            num_arrows = int(current_quiver[inner_vertex, vertex])\n",
    "            \n",
    "            if num_arrows == 0:\n",
    "                continue\n",
    "            elif num_arrows == -1:\n",
    "                num_prod += f\"(1+v_{{{which_sequence}}}({which_idx}))\"\n",
    "            elif num_arrows < -1:\n",
    "                num_prod += f\"(1+v_{{{which_sequence}}}({which_idx}))^{{{-num_arrows}}}\"\n",
    "            elif num_arrows == 1:\n",
    "                denom_prod += f\"(1+v_{{{which_sequence}}}({which_idx})^{{-1}})\"\n",
    "            else:\n",
    "                denom_prod += f\"(1+v_{{{which_sequence}}}({which_idx})^{{-1}})^{{{num_arrows}}}\"\n",
    "\n",
    "        this_sequence = idx % len(sequence)\n",
    "        this_idx = idx // len(sequence)\n",
    "        next_sequence = next_mutate % len(sequence)\n",
    "        next_idx = next_mutate // len(sequence)\n",
    "        if num_prod == \"\":\n",
    "            num_prod = \"1\"\n",
    "        equation = f'$v_{{{next_sequence}}}({next_idx})v_{{{this_sequence}}}({this_idx})=\\\\dfrac{{{num_prod}}}{{{denom_prod}}}$'\n",
    "        if denom_prod == \"\":\n",
    "            equation = f'$v_{{{next_sequence}}}({next_idx})v_{{{this_sequence}}}({this_idx})={num_prod}$'\n",
    "        display(Math(equation))\n",
    "\n",
    "        \n",
    "    if np.array_equal(quivers[0], quivers[-1]):\n",
    "        periodic_message = f\"This mutation sequence fixes the quiver, so the above equations hold for $n\\in Z$\"\n",
    "        display(Latex(periodic_message))\n",
    "    else:\n",
    "        non_periodic_message = f\"This mutation sequence doesn't fix the quiver, so we don't have a Y-system here,\\\n",
    "            just a set of {len(sequence)} equations\"\n",
    "        display(Latex(non_periodic_message)) "
   ]
  },
  {
   "cell_type": "markdown",
   "id": "40362914",
   "metadata": {},
   "source": [
    "# Combinatorics"
   ]
  },
  {
   "cell_type": "code",
   "execution_count": 5,
   "id": "b5a15c93",
   "metadata": {},
   "outputs": [],
   "source": [
    "def perm_action(perm, idx):\n",
    "    return perm[idx,].nonzero()[0][0]\n",
    "        \n",
    "def permuted_mutation_sequence(perm, vertices):\n",
    "    result = vertices\n",
    "    current_pair = vertices\n",
    "    for i in range(order_of_matrix(perm)-1):\n",
    "        current_pair = [perm_action(perm, vertex) for vertex in current_pair]\n",
    "        result = result + current_pair\n",
    "    return result\n",
    "\n",
    "def which_permutation(quiver1, quiver2):\n",
    "    num_frozen = quiver1.shape[0] - quiver1.shape[1]\n",
    "    permutation_mats = [np.array(mat) for mat in list(itertools.permutations(np.eye(quiver1.shape[0])))]\n",
    "    if num_frozen:\n",
    "        permutation_mats = [mat for mat in permutation_mats if np.array_equal(mat[-num_frozen:, -num_frozen:], np.eye(num_frozen))]\n",
    "        pairs = [[mat, mat.dot(quiver1).dot(np.linalg.inv(mat[:-num_frozen, :-num_frozen]))] for mat in permutation_mats]\n",
    "        return [pair[0] for pair in pairs if np.array_equal(pair[1], quiver2)]\n",
    "    pairs = [[mat, mat.dot(quiver1).dot(np.linalg.inv(mat))] for mat in permutation_mats]\n",
    "    return [pair[0] for pair in pairs if np.array_equal(pair[1], quiver2)]\n",
    "\n",
    "def get_permutations(quiver):\n",
    "    num_frozen = quiver.shape[0] - quiver.shape[1]\n",
    "    permutation_mats = [np.array(mat) for mat in list(itertools.permutations(np.eye(quiver.shape[0])))]\n",
    "    if num_frozen:\n",
    "        permutation_mats = [mat for mat in permutation_mats if np.array_equal(mat[-num_frozen:, -num_frozen:], np.eye(num_frozen))]\n",
    "        return [mat.dot(quiver).dot(np.linalg.inv(mat[:-num_frozen, :-num_frozen])) for mat in permutation_mats]\n",
    "    return [mat.dot(quiver).dot(np.linalg.inv(mat)) for mat in permutation_mats]\n",
    "\n",
    "def no_adjacent_duplicates(sequence):\n",
    "    'Returns true if sequence has no adjacent duplicate entries. False otherwise'\n",
    "    for idx in range(len(sequence)-1):\n",
    "        if sequence[idx] == sequence[idx+1]:\n",
    "            return False\n",
    "    return True\n",
    "\n",
    "def remove_adjacent_duplicates(sequence):\n",
    "    result = []\n",
    "    remainder = sequence\n",
    "    while remainder:\n",
    "        if len(remainder) == 1:\n",
    "            result.append(remainder[0])\n",
    "            break\n",
    "        elif remainder[0] == remainder[1]:\n",
    "            remainder = remainder[2:]\n",
    "        else:\n",
    "            result.append(remainder[0])\n",
    "            remainder = remainder[1:]\n",
    "    # not clear why this is a special case\n",
    "    if len(result) == 2 and result[0] == result[1]:\n",
    "        return []\n",
    "    return result\n",
    "\n",
    "def combinations_without_adjacent_duplicates(vertices, depth):\n",
    "    'Returns all possible sequences without adjacent duplicate vertices of given length (here called depth)'\n",
    "    all_sequences = itertools.product(vertices, repeat=depth)\n",
    "    return [sequence for sequence in all_sequences if no_adjacent_duplicates(sequence)]\n",
    "\n",
    "def order_of_matrix(mat):\n",
    "    order = 1\n",
    "    power = mat\n",
    "    while not np.array_equal(power, np.identity(mat.shape[0])):\n",
    "        order += 1\n",
    "        power = np.matmul(power, mat)\n",
    "    return order"
   ]
  },
  {
   "cell_type": "markdown",
   "id": "cc8276b2",
   "metadata": {},
   "source": [
    "# Mutation and mutation sequences <a class=\"anchor\" id=\"mutation\"></a>\n",
    "\n",
    "We can apply single mutations and mutation sequences"
   ]
  },
  {
   "cell_type": "code",
   "execution_count": 6,
   "id": "3d6b397b",
   "metadata": {},
   "outputs": [
    {
     "data": {
      "text/plain": [
       "array([[ 0.,  0.,  1., -1., -1.],\n",
       "       [ 0.,  0.,  1., -1., -1.],\n",
       "       [-1., -1.,  0.,  1.,  0.],\n",
       "       [ 1.,  1., -1.,  0.,  1.],\n",
       "       [ 1.,  1.,  0., -1.,  0.]])"
      ]
     },
     "execution_count": 6,
     "metadata": {},
     "output_type": "execute_result"
    }
   ],
   "source": [
    "quiver = np.array([\n",
    "    [0, 0, -1, 1, 1],\n",
    "    [0, 0, 1, -1, -1],\n",
    "    [1, -1, 0, 0, -1],\n",
    "    [-1, 1, 0, 0, 1],\n",
    "    [-1, 1, 1, -1, 0]\n",
    "])\n",
    "\n",
    "mutate(quiver, 0)"
   ]
  },
  {
   "cell_type": "code",
   "execution_count": 7,
   "id": "5183aecd",
   "metadata": {
    "scrolled": true
   },
   "outputs": [
    {
     "data": {
      "text/plain": [
       "array([[ 0.,  0., -0.,  1., -1.],\n",
       "       [ 0.,  0., -0.,  1., -1.],\n",
       "       [-0., -0., -0.,  1., -1.],\n",
       "       [-1., -1., -1.,  0.,  0.],\n",
       "       [ 1.,  1.,  1.,  0.,  0.]])"
      ]
     },
     "execution_count": 7,
     "metadata": {},
     "output_type": "execute_result"
    }
   ],
   "source": [
    "mutation_sequence(quiver, [0, 3, 2])"
   ]
  },
  {
   "cell_type": "markdown",
   "id": "50524fe4",
   "metadata": {},
   "source": [
    "# Mutation sequences between pairs of quiver <a class=\"anchor\" id=\"findmutations\"></a>\n",
    "\n",
    "We can use the mutation_sequences_between_quivers functions to search for mutation sequences that, applied to the first quiver, give the second (up to a permutation). This also has a depth argument to determine how many mutations we are allowed to use. It also has an early_stop argument (True by default) that will cause the function to stop when it finds the first mutation sequence.\n",
    "\n",
    "In this example, the we get the sequences $[0, 3, 2]$ and $[2, 1, 0]$, which, applied to \"quiver\" should give \"quiver2\""
   ]
  },
  {
   "cell_type": "code",
   "execution_count": 8,
   "id": "ad1ed45f",
   "metadata": {
    "scrolled": true
   },
   "outputs": [
    {
     "name": "stderr",
     "output_type": "stream",
     "text": [
      "100%|████████████████████████████████████████████████████████████████████████████████████| 3/3 [00:00<00:00, 126.23it/s]\n"
     ]
    },
    {
     "data": {
      "text/plain": [
       "[(0, 3, 2), (2, 1, 0)]"
      ]
     },
     "execution_count": 8,
     "metadata": {},
     "output_type": "execute_result"
    }
   ],
   "source": [
    "quiver2 = np.array([\n",
    "    [0, 0, 0, 1, -1],\n",
    "    [0, 0, 0, 1, -1],\n",
    "    [0, 0, 0, 1, -1],\n",
    "    [-1, -1, -1, 0, 0],\n",
    "    [1, 1, 1, 0, 0]\n",
    "])\n",
    "\n",
    "mutation_sequences_between_quivers(quiver, quiver2, depth=3, early_stop=False)"
   ]
  },
  {
   "cell_type": "markdown",
   "id": "f7927626",
   "metadata": {},
   "source": [
    "We apply these two sequences $[0, 3, 2]$ and $[2, 1, 0]$ to \"quiver\" to see that, in the first case we do get \"quiver2\" exactly. In the second case we only get a permuation of \"quiver2\". We can use the which_permuation function to see which permutations we can use."
   ]
  },
  {
   "cell_type": "code",
   "execution_count": 9,
   "id": "69199d2d",
   "metadata": {},
   "outputs": [
    {
     "data": {
      "text/plain": [
       "array([[ 0.,  0., -0.,  1., -1.],\n",
       "       [ 0.,  0., -0.,  1., -1.],\n",
       "       [-0., -0., -0.,  1., -1.],\n",
       "       [-1., -1., -1.,  0.,  0.],\n",
       "       [ 1.,  1.,  1.,  0.,  0.]])"
      ]
     },
     "execution_count": 9,
     "metadata": {},
     "output_type": "execute_result"
    }
   ],
   "source": [
    "mutation_sequence(quiver, [0, 3, 2])"
   ]
  },
  {
   "cell_type": "code",
   "execution_count": 10,
   "id": "a93f71f9",
   "metadata": {
    "scrolled": true
   },
   "outputs": [
    {
     "data": {
      "text/plain": [
       "array([[-0., -1., -0., -0.,  1.],\n",
       "       [ 1., -0.,  1.,  1.,  0.],\n",
       "       [-0., -1.,  0.,  0.,  1.],\n",
       "       [-0., -1.,  0.,  0.,  1.],\n",
       "       [-1.,  0., -1., -1.,  0.]])"
      ]
     },
     "execution_count": 10,
     "metadata": {},
     "output_type": "execute_result"
    }
   ],
   "source": [
    "mutation_sequence(quiver, [2, 1, 0])"
   ]
  },
  {
   "cell_type": "markdown",
   "id": "81e2d78c",
   "metadata": {},
   "source": [
    "We use the which_permutation function to determine the possibly permutations we can apply to the mutated \"quiver\" to get \"quiver2\""
   ]
  },
  {
   "cell_type": "code",
   "execution_count": 11,
   "id": "b1f6f0fc",
   "metadata": {},
   "outputs": [
    {
     "data": {
      "text/plain": [
       "[array([[1., 0., 0., 0., 0.],\n",
       "        [0., 0., 1., 0., 0.],\n",
       "        [0., 0., 0., 1., 0.],\n",
       "        [0., 0., 0., 0., 1.],\n",
       "        [0., 1., 0., 0., 0.]]),\n",
       " array([[1., 0., 0., 0., 0.],\n",
       "        [0., 0., 0., 1., 0.],\n",
       "        [0., 0., 1., 0., 0.],\n",
       "        [0., 0., 0., 0., 1.],\n",
       "        [0., 1., 0., 0., 0.]]),\n",
       " array([[0., 0., 1., 0., 0.],\n",
       "        [1., 0., 0., 0., 0.],\n",
       "        [0., 0., 0., 1., 0.],\n",
       "        [0., 0., 0., 0., 1.],\n",
       "        [0., 1., 0., 0., 0.]]),\n",
       " array([[0., 0., 1., 0., 0.],\n",
       "        [0., 0., 0., 1., 0.],\n",
       "        [1., 0., 0., 0., 0.],\n",
       "        [0., 0., 0., 0., 1.],\n",
       "        [0., 1., 0., 0., 0.]]),\n",
       " array([[0., 0., 0., 1., 0.],\n",
       "        [1., 0., 0., 0., 0.],\n",
       "        [0., 0., 1., 0., 0.],\n",
       "        [0., 0., 0., 0., 1.],\n",
       "        [0., 1., 0., 0., 0.]]),\n",
       " array([[0., 0., 0., 1., 0.],\n",
       "        [0., 0., 1., 0., 0.],\n",
       "        [1., 0., 0., 0., 0.],\n",
       "        [0., 0., 0., 0., 1.],\n",
       "        [0., 1., 0., 0., 0.]])]"
      ]
     },
     "execution_count": 11,
     "metadata": {},
     "output_type": "execute_result"
    }
   ],
   "source": [
    "mutated_quiver = mutation_sequence(quiver, [2, 1, 0])\n",
    "sigmas = which_permutation(mutated_quiver, quiver2)\n",
    "sigmas"
   ]
  },
  {
   "cell_type": "markdown",
   "id": "fc2347d2",
   "metadata": {},
   "source": [
    "To check this, we select a permutation and apply it to the mutated \"quiver\" (done by conjugating). This is the same as \"quiver2\""
   ]
  },
  {
   "cell_type": "code",
   "execution_count": 12,
   "id": "1d4cb904",
   "metadata": {},
   "outputs": [
    {
     "data": {
      "text/plain": [
       "array([[ 0.,  0.,  0.,  1., -1.],\n",
       "       [ 0.,  0.,  0.,  1., -1.],\n",
       "       [ 0.,  0.,  0.,  1., -1.],\n",
       "       [-1., -1., -1.,  0.,  0.],\n",
       "       [ 1.,  1.,  1.,  0.,  0.]])"
      ]
     },
     "execution_count": 12,
     "metadata": {},
     "output_type": "execute_result"
    }
   ],
   "source": [
    "sigma = sigmas[0]\n",
    "sigma.dot(mutated_quiver).dot(np.linalg.inv(sigma))"
   ]
  },
  {
   "cell_type": "markdown",
   "id": "955aa6e6",
   "metadata": {},
   "source": [
    "# Periodic quivers\n",
    "\n",
    "We can also use our mutation_sequences_between_quivers function to search for sequences that fix a quiver (up to permutation), i.e. we look for periodic quivers. This is done simply by using the same argument for both quivers in the function. If necessary we can find a suitable permutation as above.\n",
    "\n",
    "Here we give an example with depth=3, so we look for sequences of length up to 3 that fix the quiver."
   ]
  },
  {
   "cell_type": "code",
   "execution_count": 13,
   "id": "4537e818",
   "metadata": {},
   "outputs": [
    {
     "name": "stderr",
     "output_type": "stream",
     "text": [
      "100%|████████████████████████████████████████████████████████████████████████████████████| 3/3 [00:00<00:00, 800.44it/s]\n"
     ]
    },
    {
     "data": {
      "text/plain": [
       "[(0, 2, 3),\n",
       " (1, 0, 3),\n",
       " (1, 2, 3),\n",
       " (1, 3, 0),\n",
       " (2, 0, 3),\n",
       " (2, 1, 0),\n",
       " (2, 3, 0),\n",
       " (3, 1, 0)]"
      ]
     },
     "execution_count": 13,
     "metadata": {},
     "output_type": "execute_result"
    }
   ],
   "source": [
    "quiver3 = np.array([\n",
    "    [0, 1, 0, 0],\n",
    "    [-1, 0, 1, 0],\n",
    "    [0, -1, 0, 1],\n",
    "    [0, 0, -1, 0]\n",
    "])\n",
    "\n",
    "mutation_sequences_between_quivers(quiver3, quiver3, depth=3, early_stop=False)"
   ]
  },
  {
   "cell_type": "markdown",
   "id": "873d7cf7",
   "metadata": {},
   "source": [
    "# T-systems <a class=\"anchor\" id=\"tsystems\"></a>\n",
    "\n",
    "We can (attempt) to get a T-system as follows. If the given sequence doesn't fix the quiver then we don't get a recurrent set of equations, just a finite set. If the sequence does fix the quiver then we do get a recurrent system."
   ]
  },
  {
   "cell_type": "code",
   "execution_count": 14,
   "id": "17b4ed8e",
   "metadata": {
    "scrolled": false
   },
   "outputs": [
    {
     "data": {
      "text/latex": [
       "We write the $j$th cluster variable that appears at vertex $i$ by $x_i(j)$"
      ],
      "text/plain": [
       "<IPython.core.display.Latex object>"
      ]
     },
     "metadata": {},
     "output_type": "display_data"
    },
    {
     "data": {
      "text/latex": [
       "The frozen vertices here are at vertices $[1, 4]$ so we write the variables there as $c_i$, for $i \\in [1, 4]$"
      ],
      "text/plain": [
       "<IPython.core.display.Latex object>"
      ]
     },
     "metadata": {},
     "output_type": "display_data"
    },
    {
     "data": {
      "text/latex": [
       "$\\displaystyle x_{0}(1)x_{0}(0)=x_{2}(0)+x_{3}(0)c_{4}$"
      ],
      "text/plain": [
       "<IPython.core.display.Math object>"
      ]
     },
     "metadata": {},
     "output_type": "display_data"
    },
    {
     "data": {
      "text/latex": [
       "$\\displaystyle x_{3}(1)x_{3}(0)=x_{2}(0)+x_{0}(1)c_{1}c_{4}$"
      ],
      "text/plain": [
       "<IPython.core.display.Math object>"
      ]
     },
     "metadata": {},
     "output_type": "display_data"
    },
    {
     "data": {
      "text/latex": [
       "$\\displaystyle x_{2}(1)x_{2}(0)=x_{3}(1)+c_{4}$"
      ],
      "text/plain": [
       "<IPython.core.display.Math object>"
      ]
     },
     "metadata": {},
     "output_type": "display_data"
    },
    {
     "data": {
      "text/latex": [
       "This mutation sequence doesn't fix the quiver, so we don't have a T-system here,            just a set of 3 equations"
      ],
      "text/plain": [
       "<IPython.core.display.Latex object>"
      ]
     },
     "metadata": {},
     "output_type": "display_data"
    }
   ],
   "source": [
    "T_system(quiver, [0, 3, 2])"
   ]
  },
  {
   "cell_type": "code",
   "execution_count": 16,
   "id": "f23e1544",
   "metadata": {
    "scrolled": true
   },
   "outputs": [
    {
     "data": {
      "text/latex": [
       "We write the $j$th cluster variable that appears at vertex $i$ by $x_i(j)$"
      ],
      "text/plain": [
       "<IPython.core.display.Latex object>"
      ]
     },
     "metadata": {},
     "output_type": "display_data"
    },
    {
     "data": {
      "text/latex": [
       "$\\displaystyle x_{0}(1)x_{0}(0)=1+x_{1}(0)$"
      ],
      "text/plain": [
       "<IPython.core.display.Math object>"
      ]
     },
     "metadata": {},
     "output_type": "display_data"
    },
    {
     "data": {
      "text/latex": [
       "$\\displaystyle x_{2}(1)x_{2}(0)=x_{1}(0)+x_{3}(0)$"
      ],
      "text/plain": [
       "<IPython.core.display.Math object>"
      ]
     },
     "metadata": {},
     "output_type": "display_data"
    },
    {
     "data": {
      "text/latex": [
       "$\\displaystyle x_{3}(1)x_{3}(0)=x_{1}(0)+x_{2}(1)$"
      ],
      "text/plain": [
       "<IPython.core.display.Math object>"
      ]
     },
     "metadata": {},
     "output_type": "display_data"
    },
    {
     "data": {
      "text/latex": [
       "$\\displaystyle x_{2}(2)x_{2}(1)=1+x_{3}(1)$"
      ],
      "text/plain": [
       "<IPython.core.display.Math object>"
      ]
     },
     "metadata": {},
     "output_type": "display_data"
    },
    {
     "data": {
      "text/latex": [
       "$\\displaystyle x_{1}(1)x_{1}(0)=x_{3}(1)+x_{0}(1)$"
      ],
      "text/plain": [
       "<IPython.core.display.Math object>"
      ]
     },
     "metadata": {},
     "output_type": "display_data"
    },
    {
     "data": {
      "text/latex": [
       "$\\displaystyle x_{0}(2)x_{0}(1)=x_{3}(1)+x_{1}(1)$"
      ],
      "text/plain": [
       "<IPython.core.display.Math object>"
      ]
     },
     "metadata": {},
     "output_type": "display_data"
    },
    {
     "data": {
      "text/latex": [
       "$\\displaystyle x_{1}(2)x_{1}(1)=1+x_{0}(2)$"
      ],
      "text/plain": [
       "<IPython.core.display.Math object>"
      ]
     },
     "metadata": {},
     "output_type": "display_data"
    },
    {
     "data": {
      "text/latex": [
       "$\\displaystyle x_{3}(2)x_{3}(1)=x_{0}(2)+x_{2}(2)$"
      ],
      "text/plain": [
       "<IPython.core.display.Math object>"
      ]
     },
     "metadata": {},
     "output_type": "display_data"
    },
    {
     "data": {
      "text/latex": [
       "$\\displaystyle x_{2}(3)x_{2}(2)=x_{0}(2)+x_{3}(2)$"
      ],
      "text/plain": [
       "<IPython.core.display.Math object>"
      ]
     },
     "metadata": {},
     "output_type": "display_data"
    },
    {
     "data": {
      "text/latex": [
       "$\\displaystyle x_{3}(3)x_{3}(2)=1+x_{2}(3)$"
      ],
      "text/plain": [
       "<IPython.core.display.Math object>"
      ]
     },
     "metadata": {},
     "output_type": "display_data"
    },
    {
     "data": {
      "text/latex": [
       "$\\displaystyle x_{0}(3)x_{0}(2)=x_{2}(3)+x_{1}(2)$"
      ],
      "text/plain": [
       "<IPython.core.display.Math object>"
      ]
     },
     "metadata": {},
     "output_type": "display_data"
    },
    {
     "data": {
      "text/latex": [
       "$\\displaystyle x_{1}(3)x_{1}(2)=x_{2}(3)+x_{0}(3)$"
      ],
      "text/plain": [
       "<IPython.core.display.Math object>"
      ]
     },
     "metadata": {},
     "output_type": "display_data"
    },
    {
     "data": {
      "text/latex": [
       "This mutation sequence fixes the quiver, so the above equations hold for $n\\in Z$                 if we replace all $x_i(n)$ with $x_i(n+3)$"
      ],
      "text/plain": [
       "<IPython.core.display.Latex object>"
      ]
     },
     "metadata": {},
     "output_type": "display_data"
    }
   ],
   "source": [
    "T_system(quiver3, [0, 2, 3, 2, 1, 0, 1, 3, 2, 3, 0, 1])"
   ]
  },
  {
   "cell_type": "markdown",
   "id": "9f4a30d0",
   "metadata": {},
   "source": [
    "We saw above that the sequence $[0, 2, 3]$ fixes \"quiver3\" up to mutation. To generate a full T-system we need the full sequence that fixes the quiver. This can be generated from $[0, 2, 3]$ and our choice of permutation by the get_permuted_mutation_sequence function."
   ]
  },
  {
   "cell_type": "code",
   "execution_count": 17,
   "id": "076f62e3",
   "metadata": {},
   "outputs": [
    {
     "data": {
      "text/plain": [
       "[0, 2, 3, 2, 1, 0, 1, 3, 2, 3, 0, 1]"
      ]
     },
     "execution_count": 17,
     "metadata": {},
     "output_type": "execute_result"
    }
   ],
   "source": [
    "sigma = which_permutation(mutation_sequence(quiver3, [0, 2, 3]), quiver3)[0]\n",
    "sequence = permuted_mutation_sequence(sigma, [0, 2, 3])\n",
    "sequence"
   ]
  },
  {
   "cell_type": "markdown",
   "id": "f69e1a20",
   "metadata": {},
   "source": [
    "This full sequence can be used to generate a full T-system, since it completely fixes the quiver (not up to permutation)"
   ]
  },
  {
   "cell_type": "code",
   "execution_count": 18,
   "id": "e6eb7829",
   "metadata": {
    "scrolled": true
   },
   "outputs": [
    {
     "data": {
      "text/latex": [
       "We write the $j$th cluster variable that appears at vertex $i$ by $x_i(j)$"
      ],
      "text/plain": [
       "<IPython.core.display.Latex object>"
      ]
     },
     "metadata": {},
     "output_type": "display_data"
    },
    {
     "data": {
      "text/latex": [
       "$\\displaystyle x_{0}(1)x_{0}(0)=1+x_{1}(0)$"
      ],
      "text/plain": [
       "<IPython.core.display.Math object>"
      ]
     },
     "metadata": {},
     "output_type": "display_data"
    },
    {
     "data": {
      "text/latex": [
       "$\\displaystyle x_{2}(1)x_{2}(0)=x_{1}(0)+x_{3}(0)$"
      ],
      "text/plain": [
       "<IPython.core.display.Math object>"
      ]
     },
     "metadata": {},
     "output_type": "display_data"
    },
    {
     "data": {
      "text/latex": [
       "$\\displaystyle x_{3}(1)x_{3}(0)=x_{1}(0)+x_{2}(1)$"
      ],
      "text/plain": [
       "<IPython.core.display.Math object>"
      ]
     },
     "metadata": {},
     "output_type": "display_data"
    },
    {
     "data": {
      "text/latex": [
       "$\\displaystyle x_{2}(2)x_{2}(1)=1+x_{3}(1)$"
      ],
      "text/plain": [
       "<IPython.core.display.Math object>"
      ]
     },
     "metadata": {},
     "output_type": "display_data"
    },
    {
     "data": {
      "text/latex": [
       "$\\displaystyle x_{1}(1)x_{1}(0)=x_{3}(1)+x_{0}(1)$"
      ],
      "text/plain": [
       "<IPython.core.display.Math object>"
      ]
     },
     "metadata": {},
     "output_type": "display_data"
    },
    {
     "data": {
      "text/latex": [
       "$\\displaystyle x_{0}(2)x_{0}(1)=x_{3}(1)+x_{1}(1)$"
      ],
      "text/plain": [
       "<IPython.core.display.Math object>"
      ]
     },
     "metadata": {},
     "output_type": "display_data"
    },
    {
     "data": {
      "text/latex": [
       "$\\displaystyle x_{1}(2)x_{1}(1)=1+x_{0}(2)$"
      ],
      "text/plain": [
       "<IPython.core.display.Math object>"
      ]
     },
     "metadata": {},
     "output_type": "display_data"
    },
    {
     "data": {
      "text/latex": [
       "$\\displaystyle x_{3}(2)x_{3}(1)=x_{0}(2)+x_{2}(2)$"
      ],
      "text/plain": [
       "<IPython.core.display.Math object>"
      ]
     },
     "metadata": {},
     "output_type": "display_data"
    },
    {
     "data": {
      "text/latex": [
       "$\\displaystyle x_{2}(3)x_{2}(2)=x_{0}(2)+x_{3}(2)$"
      ],
      "text/plain": [
       "<IPython.core.display.Math object>"
      ]
     },
     "metadata": {},
     "output_type": "display_data"
    },
    {
     "data": {
      "text/latex": [
       "$\\displaystyle x_{3}(3)x_{3}(2)=1+x_{2}(3)$"
      ],
      "text/plain": [
       "<IPython.core.display.Math object>"
      ]
     },
     "metadata": {},
     "output_type": "display_data"
    },
    {
     "data": {
      "text/latex": [
       "$\\displaystyle x_{0}(3)x_{0}(2)=x_{2}(3)+x_{1}(2)$"
      ],
      "text/plain": [
       "<IPython.core.display.Math object>"
      ]
     },
     "metadata": {},
     "output_type": "display_data"
    },
    {
     "data": {
      "text/latex": [
       "$\\displaystyle x_{1}(3)x_{1}(2)=x_{2}(3)+x_{0}(3)$"
      ],
      "text/plain": [
       "<IPython.core.display.Math object>"
      ]
     },
     "metadata": {},
     "output_type": "display_data"
    },
    {
     "data": {
      "text/latex": [
       "This mutation sequence fixes the quiver, so the above equations hold for $n\\in Z$                 if we replace all $x_i(n)$ with $x_i(n+3)$"
      ],
      "text/plain": [
       "<IPython.core.display.Latex object>"
      ]
     },
     "metadata": {},
     "output_type": "display_data"
    }
   ],
   "source": [
    "T_system(quiver3, sequence)"
   ]
  },
  {
   "cell_type": "markdown",
   "id": "696ee22a",
   "metadata": {},
   "source": [
    "We can write down a reduced version of this T-system (though other reductions are available)"
   ]
  },
  {
   "cell_type": "code",
   "execution_count": 19,
   "id": "57aadb11",
   "metadata": {
    "scrolled": true
   },
   "outputs": [
    {
     "data": {
      "text/latex": [
       "We have $3$ sequences which we write as $w_i(n)$"
      ],
      "text/plain": [
       "<IPython.core.display.Latex object>"
      ]
     },
     "metadata": {},
     "output_type": "display_data"
    },
    {
     "data": {
      "text/latex": [
       "$\\displaystyle w_{2}(1)w_{0}(0)=1+w_{1}(1)$"
      ],
      "text/plain": [
       "<IPython.core.display.Math object>"
      ]
     },
     "metadata": {},
     "output_type": "display_data"
    },
    {
     "data": {
      "text/latex": [
       "$\\displaystyle w_{0}(1)w_{1}(0)=w_{1}(1)+w_{2}(0)$"
      ],
      "text/plain": [
       "<IPython.core.display.Math object>"
      ]
     },
     "metadata": {},
     "output_type": "display_data"
    },
    {
     "data": {
      "text/latex": [
       "$\\displaystyle w_{1}(2)w_{2}(0)=w_{1}(1)+w_{0}(1)$"
      ],
      "text/plain": [
       "<IPython.core.display.Math object>"
      ]
     },
     "metadata": {},
     "output_type": "display_data"
    },
    {
     "data": {
      "text/latex": [
       "This mutation sequence fixes the quiver, so the above equations hold for $n\\in Z$             if we replace all $w_i(n)$ with $w_i(n+1)$"
      ],
      "text/plain": [
       "<IPython.core.display.Latex object>"
      ]
     },
     "metadata": {},
     "output_type": "display_data"
    }
   ],
   "source": [
    "T_system_reduced(quiver3, [0, 2, 3], sigma)"
   ]
  },
  {
   "cell_type": "markdown",
   "id": "e3f0daad",
   "metadata": {},
   "source": [
    "# Y systems <a class=\"anchor\" id=\"ysystems\"></a>\n",
    "\n",
    "We can obtain full and reduced Y-systems in the same way as we obtained T-systems"
   ]
  },
  {
   "cell_type": "code",
   "execution_count": 21,
   "id": "0d405445",
   "metadata": {
    "scrolled": true
   },
   "outputs": [
    {
     "data": {
      "text/latex": [
       "We write the coefficient variable that appears at vertex $i$ at mutation $j$ by $y_i(j)$"
      ],
      "text/plain": [
       "<IPython.core.display.Latex object>"
      ]
     },
     "metadata": {},
     "output_type": "display_data"
    },
    {
     "data": {
      "text/latex": [
       "$\\displaystyle y_{0}(5)y_{0}(0)=\\dfrac{1}{(1+y_{1}(4)^{-1})}$"
      ],
      "text/plain": [
       "<IPython.core.display.Math object>"
      ]
     },
     "metadata": {},
     "output_type": "display_data"
    },
    {
     "data": {
      "text/latex": [
       "$\\displaystyle y_{2}(3)y_{2}(1)=\\dfrac{1}{(1+y_{3}(2)^{-1})}$"
      ],
      "text/plain": [
       "<IPython.core.display.Math object>"
      ]
     },
     "metadata": {},
     "output_type": "display_data"
    },
    {
     "data": {
      "text/latex": [
       "$\\displaystyle y_{3}(7)y_{3}(2)=\\dfrac{(1+y_{1}(4))(1+y_{0}(5))}{(1+y_{2}(3)^{-1})}$"
      ],
      "text/plain": [
       "<IPython.core.display.Math object>"
      ]
     },
     "metadata": {},
     "output_type": "display_data"
    },
    {
     "data": {
      "text/latex": [
       "$\\displaystyle y_{2}(8)y_{2}(3)=\\dfrac{1}{(1+y_{3}(7)^{-1})}$"
      ],
      "text/plain": [
       "<IPython.core.display.Math object>"
      ]
     },
     "metadata": {},
     "output_type": "display_data"
    },
    {
     "data": {
      "text/latex": [
       "$\\displaystyle y_{1}(6)y_{1}(4)=\\dfrac{1}{(1+y_{0}(5)^{-1})}$"
      ],
      "text/plain": [
       "<IPython.core.display.Math object>"
      ]
     },
     "metadata": {},
     "output_type": "display_data"
    },
    {
     "data": {
      "text/latex": [
       "$\\displaystyle y_{0}(10)y_{0}(5)=\\dfrac{(1+y_{3}(7))(1+y_{2}(8))}{(1+y_{1}(6)^{-1})}$"
      ],
      "text/plain": [
       "<IPython.core.display.Math object>"
      ]
     },
     "metadata": {},
     "output_type": "display_data"
    },
    {
     "data": {
      "text/latex": [
       "$\\displaystyle y_{1}(11)y_{1}(6)=\\dfrac{1}{(1+y_{0}(10)^{-1})}$"
      ],
      "text/plain": [
       "<IPython.core.display.Math object>"
      ]
     },
     "metadata": {},
     "output_type": "display_data"
    },
    {
     "data": {
      "text/latex": [
       "$\\displaystyle y_{3}(9)y_{3}(7)=\\dfrac{1}{(1+y_{2}(8)^{-1})}$"
      ],
      "text/plain": [
       "<IPython.core.display.Math object>"
      ]
     },
     "metadata": {},
     "output_type": "display_data"
    },
    {
     "data": {
      "text/latex": [
       "$\\displaystyle y_{2}(13)y_{2}(8)=\\dfrac{(1+y_{0}(10))(1+y_{1}(11))}{(1+y_{3}(9)^{-1})}$"
      ],
      "text/plain": [
       "<IPython.core.display.Math object>"
      ]
     },
     "metadata": {},
     "output_type": "display_data"
    },
    {
     "data": {
      "text/latex": [
       "$\\displaystyle y_{3}(14)y_{3}(9)=\\dfrac{1}{(1+y_{2}(13)^{-1})}$"
      ],
      "text/plain": [
       "<IPython.core.display.Math object>"
      ]
     },
     "metadata": {},
     "output_type": "display_data"
    },
    {
     "data": {
      "text/latex": [
       "$\\displaystyle y_{0}(12)y_{0}(10)=\\dfrac{1}{(1+y_{1}(11)^{-1})}$"
      ],
      "text/plain": [
       "<IPython.core.display.Math object>"
      ]
     },
     "metadata": {},
     "output_type": "display_data"
    },
    {
     "data": {
      "text/latex": [
       "$\\displaystyle y_{1}(16)y_{1}(11)=\\dfrac{(1+y_{2}(13))(1+y_{3}(14))}{(1+y_{0}(12)^{-1})}$"
      ],
      "text/plain": [
       "<IPython.core.display.Math object>"
      ]
     },
     "metadata": {},
     "output_type": "display_data"
    },
    {
     "data": {
      "text/latex": [
       "This mutation sequence fixes the quiver, so the above equations hold for $n\\in Z$             if we replace all $y_i(n)$ with ..."
      ],
      "text/plain": [
       "<IPython.core.display.Latex object>"
      ]
     },
     "metadata": {},
     "output_type": "display_data"
    }
   ],
   "source": [
    "quiver3 = np.array([\n",
    "    [0, 1, 0, 0],\n",
    "    [-1, 0, 1, 0],\n",
    "    [0, -1, 0, 1],\n",
    "    [0, 0, -1, 0]\n",
    "])\n",
    "\n",
    "sigma = which_permutation(mutation_sequence(quiver3, [0, 2, 3]), quiver3)[0]\n",
    "sequence = permuted_mutation_sequence(sigma, [0, 2, 3])\n",
    "Y_system(quiver3, sequence)"
   ]
  },
  {
   "cell_type": "code",
   "execution_count": 22,
   "id": "4f7710b0",
   "metadata": {},
   "outputs": [
    {
     "data": {
      "text/latex": [
       "We write the sequences of coefficient variables as $v_i(j)$"
      ],
      "text/plain": [
       "<IPython.core.display.Latex object>"
      ]
     },
     "metadata": {},
     "output_type": "display_data"
    },
    {
     "data": {
      "text/latex": [
       "The frozen vertices here are at vertices $[1]$ so we write the variables there as $d_i$, for $i \\in [1]$"
      ],
      "text/plain": [
       "<IPython.core.display.Latex object>"
      ]
     },
     "metadata": {},
     "output_type": "display_data"
    },
    {
     "data": {
      "text/latex": [
       "$\\displaystyle v_{2}(1)v_{0}(0)=\\dfrac{1}{(1+v_{1}(1)^{-1})}$"
      ],
      "text/plain": [
       "<IPython.core.display.Math object>"
      ]
     },
     "metadata": {},
     "output_type": "display_data"
    },
    {
     "data": {
      "text/latex": [
       "$\\displaystyle v_{0}(1)v_{1}(0)=\\dfrac{1}{(1+v_{2}(0)^{-1})}$"
      ],
      "text/plain": [
       "<IPython.core.display.Math object>"
      ]
     },
     "metadata": {},
     "output_type": "display_data"
    },
    {
     "data": {
      "text/latex": [
       "$\\displaystyle v_{1}(2)v_{2}(0)=\\dfrac{(1+v_{1}(1))(1+v_{2}(1))}{(1+v_{0}(1)^{-1})}$"
      ],
      "text/plain": [
       "<IPython.core.display.Math object>"
      ]
     },
     "metadata": {},
     "output_type": "display_data"
    },
    {
     "data": {
      "text/latex": [
       "This mutation sequence fixes the quiver, so the above equations hold for $n\\in Z$             if we replace all $v_i(n)$ with ..."
      ],
      "text/plain": [
       "<IPython.core.display.Latex object>"
      ]
     },
     "metadata": {},
     "output_type": "display_data"
    }
   ],
   "source": [
    "Y_system_reduced(quiver3, [0, 2, 3], sigma)"
   ]
  },
  {
   "cell_type": "markdown",
   "id": "3a11c9fd",
   "metadata": {},
   "source": [
    "# T-systems examples <a class=\"anchor\" id=\"tsystemsexample\"></a>"
   ]
  },
  {
   "cell_type": "markdown",
   "id": "353ed74f",
   "metadata": {},
   "source": [
    "## Quiver $(45)$, left, of https://arxiv.org/pdf/2109.11107.pdf\n",
    "\n",
    "This quiver has a parameter $p$, which we need to take an arbitrary value of.\n",
    "\n",
    "We first use mutation_sequences_between_quivers to find sequences which fix this quiver. We then use which_permutation to find an appropriate permutation. Finally we can plug these in to T_system_reduced to get the system, which is equation (63) in the above paper."
   ]
  },
  {
   "cell_type": "code",
   "execution_count": 23,
   "id": "ad5a5e73",
   "metadata": {},
   "outputs": [
    {
     "name": "stderr",
     "output_type": "stream",
     "text": [
      "100%|████████████████████████████████████████████████████████████████████████████████████| 3/3 [00:00<00:00, 125.68it/s]\n"
     ]
    },
    {
     "data": {
      "text/plain": [
       "[(0, 1), (2, 1), (1, 0, 1), (1, 2, 1)]"
      ]
     },
     "execution_count": 23,
     "metadata": {},
     "output_type": "execute_result"
    }
   ],
   "source": [
    "p=2\n",
    "\n",
    "quiver_45 = np.array([\n",
    "    [0, -1, 0, p, -1],\n",
    "    [1, 0 ,-1, 0, 0],\n",
    "    [0, 1, 0, 1, -p],\n",
    "    [-p, 0, -1, 0, p+1],\n",
    "    [1, 0, p, -p-1, 0]\n",
    "])\n",
    "\n",
    "mutation_sequences_between_quivers(quiver_45, quiver_45, depth=3, early_stop=False)"
   ]
  },
  {
   "cell_type": "code",
   "execution_count": 24,
   "id": "d0edd474",
   "metadata": {},
   "outputs": [
    {
     "data": {
      "text/latex": [
       "We have $2$ sequences which we write as $w_i(n)$"
      ],
      "text/plain": [
       "<IPython.core.display.Latex object>"
      ]
     },
     "metadata": {},
     "output_type": "display_data"
    },
    {
     "data": {
      "text/latex": [
       "$\\displaystyle w_{1}(1)w_{0}(0)=w_{1}(0)w_{0}(1)+w_{0}(2)^{2}$"
      ],
      "text/plain": [
       "<IPython.core.display.Math object>"
      ]
     },
     "metadata": {},
     "output_type": "display_data"
    },
    {
     "data": {
      "text/latex": [
       "$\\displaystyle w_{0}(4)w_{1}(0)=w_{1}(1)w_{0}(3)+w_{0}(2)^{2}$"
      ],
      "text/plain": [
       "<IPython.core.display.Math object>"
      ]
     },
     "metadata": {},
     "output_type": "display_data"
    },
    {
     "data": {
      "text/latex": [
       "This mutation sequence fixes the quiver, so the above equations hold for $n\\in Z$             if we replace all $w_i(n)$ with $w_i(n+1)$"
      ],
      "text/plain": [
       "<IPython.core.display.Latex object>"
      ]
     },
     "metadata": {},
     "output_type": "display_data"
    }
   ],
   "source": [
    "sigma = which_permutation(mutation_sequence(quiver_45, [0, 1]), quiver_45)[0]\n",
    "T_system_reduced(quiver_45, [0, 1], sigma)"
   ]
  },
  {
   "cell_type": "markdown",
   "id": "a895b824",
   "metadata": {},
   "source": [
    "We can also try one of the longer mutation sequences to get a different system."
   ]
  },
  {
   "cell_type": "code",
   "execution_count": 25,
   "id": "938c191d",
   "metadata": {},
   "outputs": [
    {
     "data": {
      "text/latex": [
       "We have $3$ sequences which we write as $w_i(n)$"
      ],
      "text/plain": [
       "<IPython.core.display.Latex object>"
      ]
     },
     "metadata": {},
     "output_type": "display_data"
    },
    {
     "data": {
      "text/latex": [
       "$\\displaystyle w_{2}(0)w_{0}(0)=w_{1}(0)+w_{1}(3)$"
      ],
      "text/plain": [
       "<IPython.core.display.Math object>"
      ]
     },
     "metadata": {},
     "output_type": "display_data"
    },
    {
     "data": {
      "text/latex": [
       "$\\displaystyle w_{1}(4)w_{1}(0)=w_{2}(0)w_{1}(2)^{2}+w_{1}(3)w_{1}(1)$"
      ],
      "text/plain": [
       "<IPython.core.display.Math object>"
      ]
     },
     "metadata": {},
     "output_type": "display_data"
    },
    {
     "data": {
      "text/latex": [
       "$\\displaystyle w_{0}(1)w_{2}(0)=w_{1}(4)+w_{1}(1)$"
      ],
      "text/plain": [
       "<IPython.core.display.Math object>"
      ]
     },
     "metadata": {},
     "output_type": "display_data"
    },
    {
     "data": {
      "text/latex": [
       "This mutation sequence fixes the quiver, so the above equations hold for $n\\in Z$             if we replace all $w_i(n)$ with $w_i(n+1)$"
      ],
      "text/plain": [
       "<IPython.core.display.Latex object>"
      ]
     },
     "metadata": {},
     "output_type": "display_data"
    }
   ],
   "source": [
    "sigma = which_permutation(mutation_sequence(quiver_45, [1, 2, 1]), quiver_45)[0]\n",
    "T_system_reduced(quiver_45, [1, 2, 1], sigma)"
   ]
  },
  {
   "cell_type": "markdown",
   "id": "d1d0e8e9",
   "metadata": {},
   "source": [
    "## Okubo's quiver (4.19) of https://arxiv.org/pdf/1505.03067.pdf\n",
    "\n",
    "In Okubo's work the T-system is given by applying the mutation sequence $[0, 1]$ to this quiver, but the reduction to the shorter T-system is done slightly different to what we do here. In our work Okubo's (4.19) is obtained by applying $[2,3]$. We get a slightly different system by applying $[0, 1]$."
   ]
  },
  {
   "cell_type": "code",
   "execution_count": 26,
   "id": "657f1ce2",
   "metadata": {
    "scrolled": true
   },
   "outputs": [
    {
     "name": "stderr",
     "output_type": "stream",
     "text": [
      "100%|█████████████████████████████████████████████████████████████████████████████████████| 4/4 [00:01<00:00,  3.98it/s]\n"
     ]
    },
    {
     "data": {
      "text/plain": [
       "[(0, 1),\n",
       " (1, 0),\n",
       " (2, 3),\n",
       " (3, 2),\n",
       " (4, 5),\n",
       " (5, 4),\n",
       " (0, 1, 0, 1),\n",
       " (0, 1, 2, 3),\n",
       " (0, 1, 3, 2),\n",
       " (0, 1, 4, 5),\n",
       " (0, 1, 5, 4),\n",
       " (0, 2, 4, 0),\n",
       " (0, 2, 4, 1),\n",
       " (0, 4, 2, 0),\n",
       " (0, 4, 2, 1),\n",
       " (1, 0, 1, 0),\n",
       " (1, 0, 2, 3),\n",
       " (1, 0, 3, 2),\n",
       " (1, 0, 4, 5),\n",
       " (1, 0, 5, 4),\n",
       " (1, 3, 5, 0),\n",
       " (1, 3, 5, 1),\n",
       " (1, 5, 3, 0),\n",
       " (1, 5, 3, 1),\n",
       " (2, 0, 4, 2),\n",
       " (2, 0, 4, 3),\n",
       " (2, 3, 0, 1),\n",
       " (2, 3, 1, 0),\n",
       " (2, 3, 2, 3),\n",
       " (2, 3, 4, 5),\n",
       " (2, 3, 5, 4),\n",
       " (2, 4, 0, 2),\n",
       " (2, 4, 0, 3),\n",
       " (3, 1, 5, 2),\n",
       " (3, 1, 5, 3),\n",
       " (3, 2, 0, 1),\n",
       " (3, 2, 1, 0),\n",
       " (3, 2, 3, 2),\n",
       " (3, 2, 4, 5),\n",
       " (3, 2, 5, 4),\n",
       " (3, 5, 1, 2),\n",
       " (3, 5, 1, 3),\n",
       " (4, 0, 2, 4),\n",
       " (4, 0, 2, 5),\n",
       " (4, 2, 0, 4),\n",
       " (4, 2, 0, 5),\n",
       " (4, 5, 0, 1),\n",
       " (4, 5, 1, 0),\n",
       " (4, 5, 2, 3),\n",
       " (4, 5, 3, 2),\n",
       " (4, 5, 4, 5),\n",
       " (5, 1, 3, 4),\n",
       " (5, 1, 3, 5),\n",
       " (5, 3, 1, 4),\n",
       " (5, 3, 1, 5),\n",
       " (5, 4, 0, 1),\n",
       " (5, 4, 1, 0),\n",
       " (5, 4, 2, 3),\n",
       " (5, 4, 3, 2),\n",
       " (5, 4, 5, 4)]"
      ]
     },
     "execution_count": 26,
     "metadata": {},
     "output_type": "execute_result"
    }
   ],
   "source": [
    "okubo = np.array([\n",
    "    [0, 0, -1, 1, 1, -1],\n",
    "    [0, 0, 1, -1, -1, 1],\n",
    "    [1, -1, 0, 0, -1, 1],\n",
    "    [-1, 1, 0, 0, 1, -1],\n",
    "    [-1, 1, 1, -1, 0, 0],\n",
    "    [1, -1, -1, 1, 0, 0]\n",
    "])\n",
    "\n",
    "mutation_sequences_between_quivers(okubo, okubo, depth=4, early_stop=False)"
   ]
  },
  {
   "cell_type": "markdown",
   "id": "7c419eb5",
   "metadata": {},
   "source": [
    "Okubo's sequence $[0, 1]$ here gives a different presentation of the system to his (4.19)"
   ]
  },
  {
   "cell_type": "code",
   "execution_count": 27,
   "id": "22d17556",
   "metadata": {
    "scrolled": true
   },
   "outputs": [
    {
     "data": {
      "text/latex": [
       "We have $2$ sequences which we write as $w_i(n)$"
      ],
      "text/plain": [
       "<IPython.core.display.Latex object>"
      ]
     },
     "metadata": {},
     "output_type": "display_data"
    },
    {
     "data": {
      "text/latex": [
       "$\\displaystyle w_{0}(3)w_{0}(0)=w_{1}(1)w_{1}(2)+w_{0}(1)w_{0}(2)$"
      ],
      "text/plain": [
       "<IPython.core.display.Math object>"
      ]
     },
     "metadata": {},
     "output_type": "display_data"
    },
    {
     "data": {
      "text/latex": [
       "$\\displaystyle w_{1}(3)w_{1}(0)=w_{0}(1)w_{0}(2)+w_{1}(1)w_{1}(2)$"
      ],
      "text/plain": [
       "<IPython.core.display.Math object>"
      ]
     },
     "metadata": {},
     "output_type": "display_data"
    },
    {
     "data": {
      "text/latex": [
       "This mutation sequence fixes the quiver, so the above equations hold for $n\\in Z$             if we replace all $w_i(n)$ with $w_i(n+1)$"
      ],
      "text/plain": [
       "<IPython.core.display.Latex object>"
      ]
     },
     "metadata": {},
     "output_type": "display_data"
    }
   ],
   "source": [
    "sigma = which_permutation(mutation_sequence(okubo, [0, 1]), okubo)[3]\n",
    "T_system_reduced(okubo, [0, 1], sigma)"
   ]
  },
  {
   "cell_type": "markdown",
   "id": "c2c812dd",
   "metadata": {},
   "source": [
    "Instead we obtain his (4.19) by doing $[2,3]$"
   ]
  },
  {
   "cell_type": "code",
   "execution_count": 28,
   "id": "d0a6a3e5",
   "metadata": {},
   "outputs": [
    {
     "data": {
      "text/latex": [
       "We have $2$ sequences which we write as $w_i(n)$"
      ],
      "text/plain": [
       "<IPython.core.display.Latex object>"
      ]
     },
     "metadata": {},
     "output_type": "display_data"
    },
    {
     "data": {
      "text/latex": [
       "$\\displaystyle w_{1}(3)w_{0}(0)=w_{1}(2)w_{0}(1)+w_{0}(2)w_{1}(1)$"
      ],
      "text/plain": [
       "<IPython.core.display.Math object>"
      ]
     },
     "metadata": {},
     "output_type": "display_data"
    },
    {
     "data": {
      "text/latex": [
       "$\\displaystyle w_{0}(3)w_{1}(0)=w_{0}(2)w_{1}(1)+w_{1}(2)w_{0}(1)$"
      ],
      "text/plain": [
       "<IPython.core.display.Math object>"
      ]
     },
     "metadata": {},
     "output_type": "display_data"
    },
    {
     "data": {
      "text/latex": [
       "This mutation sequence fixes the quiver, so the above equations hold for $n\\in Z$             if we replace all $w_i(n)$ with $w_i(n+1)$"
      ],
      "text/plain": [
       "<IPython.core.display.Latex object>"
      ]
     },
     "metadata": {},
     "output_type": "display_data"
    }
   ],
   "source": [
    "sigma = which_permutation(mutation_sequence(okubo, [2, 3]), okubo)[3]\n",
    "T_system_reduced(okubo, [2, 3], sigma)"
   ]
  },
  {
   "cell_type": "markdown",
   "id": "208c3732",
   "metadata": {},
   "source": [
    "We can look at some of the systems from the mutation sequences of length 4"
   ]
  },
  {
   "cell_type": "code",
   "execution_count": 29,
   "id": "0b5ccea6",
   "metadata": {
    "scrolled": true
   },
   "outputs": [
    {
     "name": "stdout",
     "output_type": "stream",
     "text": [
      "[[1. 0. 0. 0. 0. 0.]\n",
      " [0. 1. 0. 0. 0. 0.]\n",
      " [0. 0. 0. 0. 1. 0.]\n",
      " [0. 0. 0. 1. 0. 0.]\n",
      " [0. 0. 1. 0. 0. 0.]\n",
      " [0. 0. 0. 0. 0. 1.]]\n"
     ]
    },
    {
     "data": {
      "text/latex": [
       "We have $4$ sequences which we write as $w_i(n)$"
      ],
      "text/plain": [
       "<IPython.core.display.Latex object>"
      ]
     },
     "metadata": {},
     "output_type": "display_data"
    },
    {
     "data": {
      "text/latex": [
       "The frozen vertices here are at vertices $[1, 3, 5]$ so we write the variables there as $c_i$, for $i \\in [1, 3, 5]$"
      ],
      "text/plain": [
       "<IPython.core.display.Latex object>"
      ]
     },
     "metadata": {},
     "output_type": "display_data"
    },
    {
     "data": {
      "text/latex": [
       "$\\displaystyle w_{3}(0)w_{0}(0)=w_{1}(0)c_{5}+c_{3}w_{2}(0)$"
      ],
      "text/plain": [
       "<IPython.core.display.Math object>"
      ]
     },
     "metadata": {},
     "output_type": "display_data"
    },
    {
     "data": {
      "text/latex": [
       "$\\displaystyle w_{2}(1)w_{1}(0)=w_{3}(0)c_{1}+c_{3}c_{5}$"
      ],
      "text/plain": [
       "<IPython.core.display.Math object>"
      ]
     },
     "metadata": {},
     "output_type": "display_data"
    },
    {
     "data": {
      "text/latex": [
       "$\\displaystyle w_{1}(1)w_{2}(0)=c_{3}c_{5}+w_{3}(0)c_{1}$"
      ],
      "text/plain": [
       "<IPython.core.display.Math object>"
      ]
     },
     "metadata": {},
     "output_type": "display_data"
    },
    {
     "data": {
      "text/latex": [
       "$\\displaystyle w_{0}(1)w_{3}(0)=w_{2}(1)c_{3}+w_{1}(1)c_{5}$"
      ],
      "text/plain": [
       "<IPython.core.display.Math object>"
      ]
     },
     "metadata": {},
     "output_type": "display_data"
    },
    {
     "data": {
      "text/latex": [
       "This mutation sequence fixes the quiver, so the above equations hold for $n\\in Z$             if we replace all $w_i(n)$ with $w_i(n+1)$"
      ],
      "text/plain": [
       "<IPython.core.display.Latex object>"
      ]
     },
     "metadata": {},
     "output_type": "display_data"
    },
    {
     "name": "stdout",
     "output_type": "stream",
     "text": [
      "[[0. 1. 0. 0. 0. 0.]\n",
      " [1. 0. 0. 0. 0. 0.]\n",
      " [0. 0. 0. 1. 0. 0.]\n",
      " [0. 0. 0. 0. 1. 0.]\n",
      " [0. 0. 0. 0. 0. 1.]\n",
      " [0. 0. 1. 0. 0. 0.]]\n"
     ]
    },
    {
     "data": {
      "text/latex": [
       "We have $4$ sequences which we write as $w_i(n)$"
      ],
      "text/plain": [
       "<IPython.core.display.Latex object>"
      ]
     },
     "metadata": {},
     "output_type": "display_data"
    },
    {
     "data": {
      "text/latex": [
       "$\\displaystyle w_{3}(0)w_{0}(0)=w_{1}(0)w_{2}(1)+w_{1}(1)w_{2}(0)$"
      ],
      "text/plain": [
       "<IPython.core.display.Math object>"
      ]
     },
     "metadata": {},
     "output_type": "display_data"
    },
    {
     "data": {
      "text/latex": [
       "$\\displaystyle w_{2}(2)w_{1}(0)=w_{3}(0)w_{0}(1)+w_{1}(1)w_{2}(1)$"
      ],
      "text/plain": [
       "<IPython.core.display.Math object>"
      ]
     },
     "metadata": {},
     "output_type": "display_data"
    },
    {
     "data": {
      "text/latex": [
       "$\\displaystyle w_{1}(2)w_{2}(0)=w_{1}(1)w_{2}(1)+w_{3}(0)w_{0}(1)$"
      ],
      "text/plain": [
       "<IPython.core.display.Math object>"
      ]
     },
     "metadata": {},
     "output_type": "display_data"
    },
    {
     "data": {
      "text/latex": [
       "$\\displaystyle w_{0}(2)w_{3}(0)=w_{2}(2)w_{1}(1)+w_{1}(2)w_{2}(1)$"
      ],
      "text/plain": [
       "<IPython.core.display.Math object>"
      ]
     },
     "metadata": {},
     "output_type": "display_data"
    },
    {
     "data": {
      "text/latex": [
       "This mutation sequence fixes the quiver, so the above equations hold for $n\\in Z$             if we replace all $w_i(n)$ with $w_i(n+1)$"
      ],
      "text/plain": [
       "<IPython.core.display.Latex object>"
      ]
     },
     "metadata": {},
     "output_type": "display_data"
    },
    {
     "name": "stdout",
     "output_type": "stream",
     "text": [
      "[[0. 0. 1. 0. 0. 0.]\n",
      " [0. 0. 0. 0. 0. 1.]\n",
      " [1. 0. 0. 0. 0. 0.]\n",
      " [0. 1. 0. 0. 0. 0.]\n",
      " [0. 0. 0. 0. 1. 0.]\n",
      " [0. 0. 0. 1. 0. 0.]]\n"
     ]
    },
    {
     "data": {
      "text/latex": [
       "We have $4$ sequences which we write as $w_i(n)$"
      ],
      "text/plain": [
       "<IPython.core.display.Latex object>"
      ]
     },
     "metadata": {},
     "output_type": "display_data"
    },
    {
     "data": {
      "text/latex": [
       "The frozen vertices here are at vertices $[1, 3, 5]$ so we write the variables there as $c_i$, for $i \\in [1, 3, 5]$"
      ],
      "text/plain": [
       "<IPython.core.display.Latex object>"
      ]
     },
     "metadata": {},
     "output_type": "display_data"
    },
    {
     "data": {
      "text/latex": [
       "$\\displaystyle w_{3}(0)w_{0}(0)=w_{1}(0)c_{5}+c_{3}w_{2}(0)$"
      ],
      "text/plain": [
       "<IPython.core.display.Math object>"
      ]
     },
     "metadata": {},
     "output_type": "display_data"
    },
    {
     "data": {
      "text/latex": [
       "$\\displaystyle w_{0}(1)w_{1}(0)=w_{3}(0)c_{1}+c_{3}c_{5}$"
      ],
      "text/plain": [
       "<IPython.core.display.Math object>"
      ]
     },
     "metadata": {},
     "output_type": "display_data"
    },
    {
     "data": {
      "text/latex": [
       "$\\displaystyle w_{2}(1)w_{2}(0)=c_{3}c_{5}+w_{3}(0)c_{1}$"
      ],
      "text/plain": [
       "<IPython.core.display.Math object>"
      ]
     },
     "metadata": {},
     "output_type": "display_data"
    },
    {
     "data": {
      "text/latex": [
       "$\\displaystyle w_{1}(1)w_{3}(0)=w_{0}(1)c_{3}+w_{2}(1)c_{5}$"
      ],
      "text/plain": [
       "<IPython.core.display.Math object>"
      ]
     },
     "metadata": {},
     "output_type": "display_data"
    },
    {
     "data": {
      "text/latex": [
       "This mutation sequence fixes the quiver, so the above equations hold for $n\\in Z$             if we replace all $w_i(n)$ with $w_i(n+1)$"
      ],
      "text/plain": [
       "<IPython.core.display.Latex object>"
      ]
     },
     "metadata": {},
     "output_type": "display_data"
    },
    {
     "name": "stdout",
     "output_type": "stream",
     "text": [
      "[[0. 0. 0. 1. 0. 0.]\n",
      " [0. 0. 0. 0. 1. 0.]\n",
      " [0. 0. 0. 0. 0. 1.]\n",
      " [0. 0. 1. 0. 0. 0.]\n",
      " [0. 1. 0. 0. 0. 0.]\n",
      " [1. 0. 0. 0. 0. 0.]]\n"
     ]
    },
    {
     "data": {
      "text/latex": [
       "We have $4$ sequences which we write as $w_i(n)$"
      ],
      "text/plain": [
       "<IPython.core.display.Latex object>"
      ]
     },
     "metadata": {},
     "output_type": "display_data"
    },
    {
     "data": {
      "text/latex": [
       "$\\displaystyle w_{3}(0)w_{0}(0)=w_{1}(0)w_{1}(1)+w_{0}(1)w_{2}(0)$"
      ],
      "text/plain": [
       "<IPython.core.display.Math object>"
      ]
     },
     "metadata": {},
     "output_type": "display_data"
    },
    {
     "data": {
      "text/latex": [
       "$\\displaystyle w_{0}(2)w_{1}(0)=w_{3}(0)w_{2}(1)+w_{0}(1)w_{1}(1)$"
      ],
      "text/plain": [
       "<IPython.core.display.Math object>"
      ]
     },
     "metadata": {},
     "output_type": "display_data"
    },
    {
     "data": {
      "text/latex": [
       "$\\displaystyle w_{2}(2)w_{2}(0)=w_{0}(1)w_{1}(1)+w_{3}(0)w_{2}(1)$"
      ],
      "text/plain": [
       "<IPython.core.display.Math object>"
      ]
     },
     "metadata": {},
     "output_type": "display_data"
    },
    {
     "data": {
      "text/latex": [
       "$\\displaystyle w_{1}(2)w_{3}(0)=w_{0}(2)w_{0}(1)+w_{2}(2)w_{1}(1)$"
      ],
      "text/plain": [
       "<IPython.core.display.Math object>"
      ]
     },
     "metadata": {},
     "output_type": "display_data"
    },
    {
     "data": {
      "text/latex": [
       "This mutation sequence fixes the quiver, so the above equations hold for $n\\in Z$             if we replace all $w_i(n)$ with $w_i(n+1)$"
      ],
      "text/plain": [
       "<IPython.core.display.Latex object>"
      ]
     },
     "metadata": {},
     "output_type": "display_data"
    },
    {
     "name": "stdout",
     "output_type": "stream",
     "text": [
      "[[0. 0. 0. 0. 1. 0.]\n",
      " [0. 0. 0. 1. 0. 0.]\n",
      " [0. 0. 1. 0. 0. 0.]\n",
      " [0. 0. 0. 0. 0. 1.]\n",
      " [1. 0. 0. 0. 0. 0.]\n",
      " [0. 1. 0. 0. 0. 0.]]\n"
     ]
    },
    {
     "data": {
      "text/latex": [
       "We have $4$ sequences which we write as $w_i(n)$"
      ],
      "text/plain": [
       "<IPython.core.display.Latex object>"
      ]
     },
     "metadata": {},
     "output_type": "display_data"
    },
    {
     "data": {
      "text/latex": [
       "The frozen vertices here are at vertices $[1, 3, 5]$ so we write the variables there as $c_i$, for $i \\in [1, 3, 5]$"
      ],
      "text/plain": [
       "<IPython.core.display.Latex object>"
      ]
     },
     "metadata": {},
     "output_type": "display_data"
    },
    {
     "data": {
      "text/latex": [
       "$\\displaystyle w_{3}(0)w_{0}(0)=w_{1}(0)c_{5}+c_{3}w_{2}(0)$"
      ],
      "text/plain": [
       "<IPython.core.display.Math object>"
      ]
     },
     "metadata": {},
     "output_type": "display_data"
    },
    {
     "data": {
      "text/latex": [
       "$\\displaystyle w_{1}(1)w_{1}(0)=w_{3}(0)c_{1}+c_{3}c_{5}$"
      ],
      "text/plain": [
       "<IPython.core.display.Math object>"
      ]
     },
     "metadata": {},
     "output_type": "display_data"
    },
    {
     "data": {
      "text/latex": [
       "$\\displaystyle w_{0}(1)w_{2}(0)=c_{3}c_{5}+w_{3}(0)c_{1}$"
      ],
      "text/plain": [
       "<IPython.core.display.Math object>"
      ]
     },
     "metadata": {},
     "output_type": "display_data"
    },
    {
     "data": {
      "text/latex": [
       "$\\displaystyle w_{2}(1)w_{3}(0)=w_{1}(1)c_{3}+w_{0}(1)c_{5}$"
      ],
      "text/plain": [
       "<IPython.core.display.Math object>"
      ]
     },
     "metadata": {},
     "output_type": "display_data"
    },
    {
     "data": {
      "text/latex": [
       "This mutation sequence fixes the quiver, so the above equations hold for $n\\in Z$             if we replace all $w_i(n)$ with $w_i(n+1)$"
      ],
      "text/plain": [
       "<IPython.core.display.Latex object>"
      ]
     },
     "metadata": {},
     "output_type": "display_data"
    },
    {
     "name": "stdout",
     "output_type": "stream",
     "text": [
      "[[0. 0. 0. 0. 0. 1.]\n",
      " [0. 0. 1. 0. 0. 0.]\n",
      " [0. 1. 0. 0. 0. 0.]\n",
      " [1. 0. 0. 0. 0. 0.]\n",
      " [0. 0. 0. 1. 0. 0.]\n",
      " [0. 0. 0. 0. 1. 0.]]\n"
     ]
    },
    {
     "data": {
      "text/latex": [
       "We have $4$ sequences which we write as $w_i(n)$"
      ],
      "text/plain": [
       "<IPython.core.display.Latex object>"
      ]
     },
     "metadata": {},
     "output_type": "display_data"
    },
    {
     "data": {
      "text/latex": [
       "$\\displaystyle w_{3}(0)w_{0}(0)=w_{1}(0)w_{0}(1)+w_{2}(1)w_{2}(0)$"
      ],
      "text/plain": [
       "<IPython.core.display.Math object>"
      ]
     },
     "metadata": {},
     "output_type": "display_data"
    },
    {
     "data": {
      "text/latex": [
       "$\\displaystyle w_{1}(2)w_{1}(0)=w_{3}(0)w_{1}(1)+w_{2}(1)w_{0}(1)$"
      ],
      "text/plain": [
       "<IPython.core.display.Math object>"
      ]
     },
     "metadata": {},
     "output_type": "display_data"
    },
    {
     "data": {
      "text/latex": [
       "$\\displaystyle w_{0}(2)w_{2}(0)=w_{2}(1)w_{0}(1)+w_{3}(0)w_{1}(1)$"
      ],
      "text/plain": [
       "<IPython.core.display.Math object>"
      ]
     },
     "metadata": {},
     "output_type": "display_data"
    },
    {
     "data": {
      "text/latex": [
       "$\\displaystyle w_{2}(2)w_{3}(0)=w_{1}(2)w_{2}(1)+w_{0}(2)w_{0}(1)$"
      ],
      "text/plain": [
       "<IPython.core.display.Math object>"
      ]
     },
     "metadata": {},
     "output_type": "display_data"
    },
    {
     "data": {
      "text/latex": [
       "This mutation sequence fixes the quiver, so the above equations hold for $n\\in Z$             if we replace all $w_i(n)$ with $w_i(n+1)$"
      ],
      "text/plain": [
       "<IPython.core.display.Latex object>"
      ]
     },
     "metadata": {},
     "output_type": "display_data"
    }
   ],
   "source": [
    "for sigma in which_permutation(mutation_sequence(okubo, [0, 2, 4, 0]), okubo):\n",
    "    print(sigma)\n",
    "    T_system_reduced(okubo, [0, 2, 4, 0], sigma)"
   ]
  },
  {
   "cell_type": "markdown",
   "id": "ed68edf3",
   "metadata": {},
   "source": [
    "## Quiver 2.21 https://arxiv.org/pdf/2403.00721.pdf\n",
    "\n",
    "This is an example of a quiver with frozen vertices, which is represented by a rectangular matrix. We look at mutation sequences of depth up to 4.\n",
    "\n",
    "The above paper's (2.21) doesn't seem to come directly here, but is probably just a different representation of one (or both) of the systems here."
   ]
  },
  {
   "cell_type": "code",
   "execution_count": 31,
   "id": "9ecd0c57",
   "metadata": {
    "scrolled": true
   },
   "outputs": [
    {
     "name": "stderr",
     "output_type": "stream",
     "text": [
      "100%|█████████████████████████████████████████████████████████████████████████████████████| 4/4 [00:01<00:00,  3.89it/s]\n"
     ]
    },
    {
     "data": {
      "text/plain": [
       "[(0, 1),\n",
       " (0, 3),\n",
       " (0, 4),\n",
       " (3, 0),\n",
       " (3, 2),\n",
       " (3, 5),\n",
       " (4, 5),\n",
       " (5, 4),\n",
       " (1, 0, 1),\n",
       " (2, 3, 2),\n",
       " (4, 0, 4),\n",
       " (4, 0, 5),\n",
       " (5, 3, 4),\n",
       " (5, 3, 5),\n",
       " (0, 1, 2, 3),\n",
       " (0, 1, 3, 2),\n",
       " (0, 1, 4, 1),\n",
       " (0, 1, 4, 2),\n",
       " (0, 1, 4, 5),\n",
       " (0, 2, 5, 0),\n",
       " (0, 2, 5, 1),\n",
       " (0, 2, 5, 3),\n",
       " (0, 2, 5, 4),\n",
       " (0, 3, 0, 2),\n",
       " (0, 3, 0, 3),\n",
       " (0, 3, 0, 5),\n",
       " (0, 3, 1, 2),\n",
       " (0, 3, 2, 1),\n",
       " (0, 4, 0, 5),\n",
       " (0, 4, 1, 2),\n",
       " (0, 4, 1, 4),\n",
       " (0, 4, 1, 5),\n",
       " (0, 4, 5, 0),\n",
       " (0, 5, 2, 0),\n",
       " (0, 5, 2, 1),\n",
       " (0, 5, 2, 3),\n",
       " (0, 5, 2, 4),\n",
       " (1, 3, 4, 1),\n",
       " (1, 4, 3, 1),\n",
       " (2, 0, 5, 2),\n",
       " (2, 5, 0, 2),\n",
       " (3, 0, 1, 2),\n",
       " (3, 0, 2, 1),\n",
       " (3, 0, 3, 0),\n",
       " (3, 0, 3, 1),\n",
       " (3, 0, 3, 4),\n",
       " (3, 1, 4, 0),\n",
       " (3, 1, 4, 2),\n",
       " (3, 1, 4, 3),\n",
       " (3, 1, 4, 5),\n",
       " (3, 2, 0, 1),\n",
       " (3, 2, 1, 0),\n",
       " (3, 2, 5, 1),\n",
       " (3, 2, 5, 2),\n",
       " (3, 2, 5, 4),\n",
       " (3, 4, 1, 0),\n",
       " (3, 4, 1, 2),\n",
       " (3, 4, 1, 3),\n",
       " (3, 4, 1, 5),\n",
       " (3, 5, 2, 1),\n",
       " (3, 5, 2, 4),\n",
       " (3, 5, 2, 5),\n",
       " (3, 5, 3, 4),\n",
       " (3, 5, 4, 3),\n",
       " (4, 1, 3, 4),\n",
       " (4, 1, 3, 5),\n",
       " (4, 3, 1, 4),\n",
       " (4, 3, 1, 5),\n",
       " (4, 5, 0, 1),\n",
       " (4, 5, 0, 3),\n",
       " (4, 5, 0, 5),\n",
       " (4, 5, 3, 0),\n",
       " (4, 5, 3, 2),\n",
       " (4, 5, 3, 4),\n",
       " (4, 5, 4, 5),\n",
       " (5, 0, 2, 4),\n",
       " (5, 0, 2, 5),\n",
       " (5, 2, 0, 4),\n",
       " (5, 2, 0, 5),\n",
       " (5, 4, 0, 1),\n",
       " (5, 4, 0, 3),\n",
       " (5, 4, 0, 5),\n",
       " (5, 4, 3, 0),\n",
       " (5, 4, 3, 2),\n",
       " (5, 4, 3, 4),\n",
       " (5, 4, 5, 4)]"
      ]
     },
     "execution_count": 31,
     "metadata": {},
     "output_type": "execute_result"
    }
   ],
   "source": [
    "quiver221 = np.array([\n",
    "    [0, 1, -1, 0, -1, 1],\n",
    "    [-1, 0, 2, -1, 1, -1],\n",
    "    [1, -2, 0, 1, 1, -1],\n",
    "    [0, 1, -1, 0, -1, 1],\n",
    "    [1, -1, -1, 1, 0, 0],\n",
    "    [-1, 1, 1, -1, 0, 0],\n",
    "    [1, 0, 0, -1, 1, -1],\n",
    "    [-1, -1, 1, 1, 0, 0]\n",
    "])\n",
    "\n",
    "mutation_sequences_between_quivers(quiver221, quiver221, depth=4, early_stop=False)"
   ]
  },
  {
   "cell_type": "code",
   "execution_count": 32,
   "id": "3e971cdf",
   "metadata": {
    "scrolled": true
   },
   "outputs": [
    {
     "name": "stdout",
     "output_type": "stream",
     "text": [
      "[[0. 0. 0. 0. 1. 0. 0. 0.]\n",
      " [0. 0. 0. 0. 0. 1. 0. 0.]\n",
      " [1. 0. 0. 0. 0. 0. 0. 0.]\n",
      " [0. 1. 0. 0. 0. 0. 0. 0.]\n",
      " [0. 0. 1. 0. 0. 0. 0. 0.]\n",
      " [0. 0. 0. 1. 0. 0. 0. 0.]\n",
      " [0. 0. 0. 0. 0. 0. 1. 0.]\n",
      " [0. 0. 0. 0. 0. 0. 0. 1.]]\n"
     ]
    },
    {
     "data": {
      "text/latex": [
       "We have $2$ sequences which we write as $w_i(n)$"
      ],
      "text/plain": [
       "<IPython.core.display.Latex object>"
      ]
     },
     "metadata": {},
     "output_type": "display_data"
    },
    {
     "data": {
      "text/latex": [
       "The frozen vertices here are at vertices $[6, 7]$ so we write the variables there as $c_i$, for $i \\in [6, 7]$"
      ],
      "text/plain": [
       "<IPython.core.display.Latex object>"
      ]
     },
     "metadata": {},
     "output_type": "display_data"
    },
    {
     "data": {
      "text/latex": [
       "$\\displaystyle w_{0}(3)w_{0}(0)=w_{0}(2)w_{0}(1)c_{6}+w_{1}(0)w_{1}(1)c_{7}$"
      ],
      "text/plain": [
       "<IPython.core.display.Math object>"
      ]
     },
     "metadata": {},
     "output_type": "display_data"
    },
    {
     "data": {
      "text/latex": [
       "$\\displaystyle w_{1}(3)w_{1}(0)=w_{1}(2)w_{1}(1)c_{6}+w_{0}(3)w_{0}(2)c_{7}$"
      ],
      "text/plain": [
       "<IPython.core.display.Math object>"
      ]
     },
     "metadata": {},
     "output_type": "display_data"
    },
    {
     "data": {
      "text/latex": [
       "This mutation sequence fixes the quiver, so the above equations hold for $n\\in Z$             if we replace all $w_i(n)$ with $w_i(n+1)$"
      ],
      "text/plain": [
       "<IPython.core.display.Latex object>"
      ]
     },
     "metadata": {},
     "output_type": "display_data"
    }
   ],
   "source": [
    "for sigma in which_permutation(mutation_sequence(quiver221, [0, 1]), quiver221):\n",
    "    print(sigma)\n",
    "    T_system_reduced(quiver221, [0, 1], sigma)"
   ]
  },
  {
   "cell_type": "code",
   "execution_count": 33,
   "id": "6b8c66f1",
   "metadata": {},
   "outputs": [
    {
     "name": "stdout",
     "output_type": "stream",
     "text": [
      "[[0. 1. 0. 0. 0. 0. 0. 0.]\n",
      " [0. 0. 1. 0. 0. 0. 0. 0.]\n",
      " [0. 0. 0. 1. 0. 0. 0. 0.]\n",
      " [0. 0. 0. 0. 1. 0. 0. 0.]\n",
      " [0. 0. 0. 0. 0. 1. 0. 0.]\n",
      " [1. 0. 0. 0. 0. 0. 0. 0.]\n",
      " [0. 0. 0. 0. 0. 0. 1. 0.]\n",
      " [0. 0. 0. 0. 0. 0. 0. 1.]]\n"
     ]
    },
    {
     "data": {
      "text/latex": [
       "We have $2$ sequences which we write as $w_i(n)$"
      ],
      "text/plain": [
       "<IPython.core.display.Latex object>"
      ]
     },
     "metadata": {},
     "output_type": "display_data"
    },
    {
     "data": {
      "text/latex": [
       "The frozen vertices here are at vertices $[6, 7]$ so we write the variables there as $c_i$, for $i \\in [6, 7]$"
      ],
      "text/plain": [
       "<IPython.core.display.Latex object>"
      ]
     },
     "metadata": {},
     "output_type": "display_data"
    },
    {
     "data": {
      "text/latex": [
       "$\\displaystyle w_{1}(2)w_{0}(0)=w_{0}(2)w_{1}(0)c_{6}+w_{0}(1)w_{1}(1)c_{7}$"
      ],
      "text/plain": [
       "<IPython.core.display.Math object>"
      ]
     },
     "metadata": {},
     "output_type": "display_data"
    },
    {
     "data": {
      "text/latex": [
       "$\\displaystyle w_{0}(4)w_{1}(0)=w_{1}(2)w_{0}(2)c_{6}+w_{0}(3)w_{1}(1)c_{7}$"
      ],
      "text/plain": [
       "<IPython.core.display.Math object>"
      ]
     },
     "metadata": {},
     "output_type": "display_data"
    },
    {
     "data": {
      "text/latex": [
       "This mutation sequence fixes the quiver, so the above equations hold for $n\\in Z$             if we replace all $w_i(n)$ with $w_i(n+1)$"
      ],
      "text/plain": [
       "<IPython.core.display.Latex object>"
      ]
     },
     "metadata": {},
     "output_type": "display_data"
    }
   ],
   "source": [
    "for sigma in which_permutation(mutation_sequence(quiver221, [0, 4]), quiver221):\n",
    "    print(sigma)\n",
    "    T_system_reduced(quiver221, [0, 4], sigma)"
   ]
  },
  {
   "cell_type": "markdown",
   "id": "aad2d4b7",
   "metadata": {},
   "source": [
    "We can look at some of the length 3 sequences"
   ]
  },
  {
   "cell_type": "code",
   "execution_count": 35,
   "id": "b51dce7f",
   "metadata": {},
   "outputs": [
    {
     "name": "stdout",
     "output_type": "stream",
     "text": [
      "[[0. 1. 0. 0. 0. 0. 0. 0.]\n",
      " [0. 0. 1. 0. 0. 0. 0. 0.]\n",
      " [0. 0. 0. 1. 0. 0. 0. 0.]\n",
      " [1. 0. 0. 0. 0. 0. 0. 0.]\n",
      " [0. 0. 0. 0. 0. 1. 0. 0.]\n",
      " [0. 0. 0. 0. 1. 0. 0. 0.]\n",
      " [0. 0. 0. 0. 0. 0. 1. 0.]\n",
      " [0. 0. 0. 0. 0. 0. 0. 1.]]\n"
     ]
    },
    {
     "data": {
      "text/latex": [
       "We have $3$ sequences which we write as $w_i(n)$"
      ],
      "text/plain": [
       "<IPython.core.display.Latex object>"
      ]
     },
     "metadata": {},
     "output_type": "display_data"
    },
    {
     "data": {
      "text/latex": [
       "The frozen vertices here are at vertices $[6, 7]$ so we write the variables there as $c_i$, for $i \\in [6, 7]$"
      ],
      "text/plain": [
       "<IPython.core.display.Latex object>"
      ]
     },
     "metadata": {},
     "output_type": "display_data"
    },
    {
     "data": {
      "text/latex": [
       "$\\displaystyle w_{2}(0)w_{0}(0)=w_{1}(1)w_{1}(2)c_{6}+w_{1}(0)w_{1}(3)$"
      ],
      "text/plain": [
       "<IPython.core.display.Math object>"
      ]
     },
     "metadata": {},
     "output_type": "display_data"
    },
    {
     "data": {
      "text/latex": [
       "$\\displaystyle w_{1}(4)w_{1}(0)=w_{1}(2)^{2}c_{6}^{2}+w_{2}(0)w_{0}(1)c_{7}$"
      ],
      "text/plain": [
       "<IPython.core.display.Math object>"
      ]
     },
     "metadata": {},
     "output_type": "display_data"
    },
    {
     "data": {
      "text/latex": [
       "$\\displaystyle w_{0}(2)w_{2}(0)=w_{1}(2)w_{1}(3)c_{6}+w_{1}(4)w_{1}(1)$"
      ],
      "text/plain": [
       "<IPython.core.display.Math object>"
      ]
     },
     "metadata": {},
     "output_type": "display_data"
    },
    {
     "data": {
      "text/latex": [
       "This mutation sequence fixes the quiver, so the above equations hold for $n\\in Z$             if we replace all $w_i(n)$ with $w_i(n+1)$"
      ],
      "text/plain": [
       "<IPython.core.display.Latex object>"
      ]
     },
     "metadata": {},
     "output_type": "display_data"
    }
   ],
   "source": [
    "for sigma in which_permutation(mutation_sequence(quiver221, [4, 0, 4]), quiver221):\n",
    "    print(sigma)\n",
    "    T_system_reduced(quiver221, [4,0,4], sigma)"
   ]
  },
  {
   "cell_type": "markdown",
   "id": "2d4c601a",
   "metadata": {},
   "source": [
    "Finally we can look at some of the length 4 sequences"
   ]
  },
  {
   "cell_type": "markdown",
   "id": "988a6035",
   "metadata": {},
   "source": [
    "# Y-systems examples <a class=\"anchor\" id=\"ysystemsexample\"></a>"
   ]
  },
  {
   "cell_type": "markdown",
   "id": "de31fa48",
   "metadata": {},
   "source": [
    "## Okubo's quiver (4.19) of https://arxiv.org/pdf/1505.03067.pdf\n",
    "\n",
    "We looked at the T-system for this quiver above. We can arrive at the reduced Y-system as follows. The long Y-system here should be analoguous to Okubo's (4.23). Note that to agree with Okubo's (4.24) we need to take \n",
    "\n",
    "$$v_i(j)\\rightarrow \\begin{cases}\n",
    "z_j & i+j \\:\\:\\mathrm{even} \\\\\n",
    "y_j & i+j \\:\\: \\mathrm{odd}\n",
    "\\end{cases}$$\n",
    "\n",
    "in our reduced system."
   ]
  },
  {
   "cell_type": "code",
   "execution_count": 44,
   "id": "202be761",
   "metadata": {},
   "outputs": [
    {
     "data": {
      "text/latex": [
       "We write the coefficient variable that appears at vertex $i$ at mutation $j$ by $y_i(j)$"
      ],
      "text/plain": [
       "<IPython.core.display.Latex object>"
      ]
     },
     "metadata": {},
     "output_type": "display_data"
    },
    {
     "data": {
      "text/latex": [
       "$\\displaystyle y_{0}(6)y_{0}(0)=\\dfrac{(1+y_{2}(3))(1+y_{5}(5))}{(1+y_{3}(2)^{-1})(1+y_{4}(4)^{-1})}$"
      ],
      "text/plain": [
       "<IPython.core.display.Math object>"
      ]
     },
     "metadata": {},
     "output_type": "display_data"
    },
    {
     "data": {
      "text/latex": [
       "$\\displaystyle y_{1}(7)y_{1}(1)=\\dfrac{(1+y_{3}(2))(1+y_{4}(4))}{(1+y_{2}(3)^{-1})(1+y_{5}(5)^{-1})}$"
      ],
      "text/plain": [
       "<IPython.core.display.Math object>"
      ]
     },
     "metadata": {},
     "output_type": "display_data"
    },
    {
     "data": {
      "text/latex": [
       "$\\displaystyle y_{3}(8)y_{3}(2)=\\dfrac{(1+y_{5}(5))(1+y_{1}(7))}{(1+y_{4}(4)^{-1})(1+y_{0}(6)^{-1})}$"
      ],
      "text/plain": [
       "<IPython.core.display.Math object>"
      ]
     },
     "metadata": {},
     "output_type": "display_data"
    },
    {
     "data": {
      "text/latex": [
       "$\\displaystyle y_{2}(9)y_{2}(3)=\\dfrac{(1+y_{4}(4))(1+y_{0}(6))}{(1+y_{5}(5)^{-1})(1+y_{1}(7)^{-1})}$"
      ],
      "text/plain": [
       "<IPython.core.display.Math object>"
      ]
     },
     "metadata": {},
     "output_type": "display_data"
    },
    {
     "data": {
      "text/latex": [
       "$\\displaystyle y_{4}(10)y_{4}(4)=\\dfrac{(1+y_{1}(7))(1+y_{2}(9))}{(1+y_{0}(6)^{-1})(1+y_{3}(8)^{-1})}$"
      ],
      "text/plain": [
       "<IPython.core.display.Math object>"
      ]
     },
     "metadata": {},
     "output_type": "display_data"
    },
    {
     "data": {
      "text/latex": [
       "$\\displaystyle y_{5}(11)y_{5}(5)=\\dfrac{(1+y_{0}(6))(1+y_{3}(8))}{(1+y_{1}(7)^{-1})(1+y_{2}(9)^{-1})}$"
      ],
      "text/plain": [
       "<IPython.core.display.Math object>"
      ]
     },
     "metadata": {},
     "output_type": "display_data"
    },
    {
     "data": {
      "text/latex": [
       "This mutation sequence fixes the quiver, so the above equations hold for $n\\in Z$             if we replace all $y_i(n)$ with ..."
      ],
      "text/plain": [
       "<IPython.core.display.Latex object>"
      ]
     },
     "metadata": {},
     "output_type": "display_data"
    }
   ],
   "source": [
    "sigma = which_permutation(mutation_sequence(okubo, [0, 1]), okubo)[3]\n",
    "sequence = permuted_mutation_sequence(sigma, [0, 1])\n",
    "Y_system(okubo, sequence)"
   ]
  },
  {
   "cell_type": "code",
   "execution_count": 40,
   "id": "6bd5f638",
   "metadata": {
    "scrolled": true
   },
   "outputs": [
    {
     "data": {
      "text/latex": [
       "We write the sequences of coefficient variables as $v_i(j)$"
      ],
      "text/plain": [
       "<IPython.core.display.Latex object>"
      ]
     },
     "metadata": {},
     "output_type": "display_data"
    },
    {
     "data": {
      "text/latex": [
       "$\\displaystyle v_{0}(3)v_{0}(0)=\\dfrac{(1+v_{1}(1))(1+v_{1}(2))}{(1+v_{0}(1)^{-1})(1+v_{0}(2)^{-1})}$"
      ],
      "text/plain": [
       "<IPython.core.display.Math object>"
      ]
     },
     "metadata": {},
     "output_type": "display_data"
    },
    {
     "data": {
      "text/latex": [
       "$\\displaystyle v_{1}(3)v_{1}(0)=\\dfrac{(1+v_{0}(1))(1+v_{0}(2))}{(1+v_{1}(1)^{-1})(1+v_{1}(2)^{-1})}$"
      ],
      "text/plain": [
       "<IPython.core.display.Math object>"
      ]
     },
     "metadata": {},
     "output_type": "display_data"
    },
    {
     "data": {
      "text/latex": [
       "This mutation sequence fixes the quiver, so the above equations hold for $n\\in Z$             if we replace all $v_i(n)$ with ..."
      ],
      "text/plain": [
       "<IPython.core.display.Latex object>"
      ]
     },
     "metadata": {},
     "output_type": "display_data"
    }
   ],
   "source": [
    "sigma = which_permutation(mutation_sequence(okubo, [0, 1]), okubo)[3]\n",
    "Y_system_reduced(okubo, [0, 1], sigma)"
   ]
  }
 ],
 "metadata": {
  "kernelspec": {
   "display_name": "Python 3 (ipykernel)",
   "language": "python",
   "name": "python3"
  },
  "language_info": {
   "codemirror_mode": {
    "name": "ipython",
    "version": 3
   },
   "file_extension": ".py",
   "mimetype": "text/x-python",
   "name": "python",
   "nbconvert_exporter": "python",
   "pygments_lexer": "ipython3",
   "version": "3.10.12"
  }
 },
 "nbformat": 4,
 "nbformat_minor": 5
}
