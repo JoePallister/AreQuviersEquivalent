{
 "cells": [
  {
   "cell_type": "code",
   "execution_count": 1,
   "id": "0df9ab76",
   "metadata": {},
   "outputs": [],
   "source": [
    "import itertools\n",
    "import numpy as np\n",
    "from tqdm import tqdm\n",
    "import timeit\n",
    "from IPython.display import display, Latex, Math"
   ]
  },
  {
   "cell_type": "markdown",
   "id": "cf96f5f9",
   "metadata": {},
   "source": [
    "# Quiver mutation\n",
    "\n",
    "We represent a quiver as a \"B-matrix\". This has entries $b_{ij}$, the number of arrows from vertex $i$ to vertex $j$ in the quiver. For arrows pointing $i\\rightarrow j$ we define $b_{ji}=-b_{ij}$.\n",
    "\n",
    "Quivers have an operation called mutation, which can be applied at any vertex $k$, which we write as $\\mu_k$. We call this new quiver $\\tilde{Q}$ so this means $$\\tilde{Q}:=\\mu_k(Q)$$. We write the entries of the new quiver $\\tilde{Q}$ as $\\tilde{b}_{ij}$, and these are given by\n",
    "\n",
    "$$\\tilde{b}_{ij}=\\begin{cases}\n",
    "-b_{ij} & i=k \\:\\mathrm{or}\\: j=k \\\\\n",
    "b_{ij} + \\mathrm{sgn}(b_{ik})[b_{ik}b_{kj}]_+ & \\mathrm{otherwise}\n",
    "\\end{cases}\n",
    "$$\n",
    "\n",
    "where the maxplus $[x]_+$ is defined as \n",
    "\n",
    "$$[x]_+=\\begin{cases}\n",
    "x & x>0 \\\\\n",
    "0 & \\mathrm{otherwise}\n",
    "\\end{cases}\n",
    "$$"
   ]
  },
  {
   "cell_type": "code",
   "execution_count": 2,
   "id": "4853ff03",
   "metadata": {},
   "outputs": [],
   "source": [
    "def max_plus(num):\n",
    "    if num <= 0:\n",
    "        return 0\n",
    "    return num\n",
    "\n",
    "def mutate(quiver, vertex):\n",
    "    dim = quiver.shape[0]\n",
    "    result = np.zeros(shape=(dim, dim))\n",
    "    for i in range(dim):\n",
    "        for j in range(dim):\n",
    "            if (i == vertex or j == vertex):\n",
    "                result[i,j] = -quiver[i,j]\n",
    "            else:\n",
    "                result[i,j] = quiver[i,j]+np.sign(quiver[i,vertex])*max_plus(quiver[i,vertex]*quiver[vertex,j])\n",
    "    return np.array(result)"
   ]
  },
  {
   "cell_type": "markdown",
   "id": "9d82d73d",
   "metadata": {},
   "source": [
    "An example quiver and mutation"
   ]
  },
  {
   "cell_type": "code",
   "execution_count": 3,
   "id": "7bdee79f",
   "metadata": {},
   "outputs": [
    {
     "data": {
      "text/plain": [
       "array([[ 0.,  1., -1.,  0., -1.,  1.],\n",
       "       [-1.,  0.,  1.,  1.,  0., -1.],\n",
       "       [ 1., -1.,  0., -1.,  1.,  0.],\n",
       "       [ 0., -1.,  1.,  0.,  1., -1.],\n",
       "       [ 1.,  0., -1., -1.,  0.,  1.],\n",
       "       [-1.,  1.,  0.,  1., -1.,  0.]])"
      ]
     },
     "execution_count": 3,
     "metadata": {},
     "output_type": "execute_result"
    }
   ],
   "source": [
    "quiver1 = np.array([\n",
    "    [0, 1, -1, 0, -1, 1],\n",
    "    [-1, 0, 2, -1, 1, -1],\n",
    "    [1, -2, 0, 1, 1, -1],\n",
    "    [0, 1, -1, 0, -1, 1],\n",
    "    [1, -1, -1, 1, 0, 0],\n",
    "    [-1, 1, 1, -1, 0, 0]\n",
    "])\n",
    "\n",
    "mutate(quiver1, 3)"
   ]
  },
  {
   "cell_type": "markdown",
   "id": "b8008c7b",
   "metadata": {},
   "source": [
    "After a mutation we are free to mutate again at another vertex. For example we can do\n",
    "$$\n",
    "\\mu_2\\mu_4\\mu_3(Q)\n",
    "$$\n",
    "we define a function for applying sequences of mutations. Note that the above sequence would be $[3,4,2]$, since we do 3 first."
   ]
  },
  {
   "cell_type": "code",
   "execution_count": 4,
   "id": "998291d5",
   "metadata": {},
   "outputs": [],
   "source": [
    "def mutation_sequence(quiver, sequence):\n",
    "    current_quiver = quiver\n",
    "    for vertex in sequence:\n",
    "        current_quiver = mutate(current_quiver, vertex)\n",
    "    return current_quiver"
   ]
  },
  {
   "cell_type": "code",
   "execution_count": 5,
   "id": "981d2999",
   "metadata": {},
   "outputs": [
    {
     "data": {
      "text/plain": [
       "array([[ 0., -1.,  2., -3., -1.,  1.],\n",
       "       [ 1.,  0., -1.,  1.,  0.,  0.],\n",
       "       [-2.,  1., -0.,  1.,  1., -1.],\n",
       "       [ 3., -1., -1.,  0., -1.,  1.],\n",
       "       [ 1.,  0., -1.,  1.,  0.,  0.],\n",
       "       [-1.,  0.,  1., -1.,  0.,  0.]])"
      ]
     },
     "execution_count": 5,
     "metadata": {},
     "output_type": "execute_result"
    }
   ],
   "source": [
    "sequence = [3,4,2]\n",
    "mutation_sequence(quiver1, sequence)"
   ]
  },
  {
   "cell_type": "markdown",
   "id": "2feaf970",
   "metadata": {},
   "source": [
    "# Mutation sequences\n",
    "\n",
    "We are interested in finding all of the possible mutation sequences. One property of mutation is that $\\mu_k^2=1$, so we can exclude mutation sequences which adjacent vertices being equal, for example $[4,2,4,3,3,1]$, since the two $\\mu_3$ will cancel to give the sequence $[4,2,4,1]$. Apart from this we are free to choose any mutations we want."
   ]
  },
  {
   "cell_type": "code",
   "execution_count": 6,
   "id": "1d36f3e7",
   "metadata": {},
   "outputs": [],
   "source": [
    "def no_adjacent_duplicates(sequence):\n",
    "    'Returns true if sequence has no adjacent duplicate entries. False otherwise'\n",
    "    for idx in range(len(sequence)-1):\n",
    "        if sequence[idx] == sequence[idx+1]:\n",
    "            return False\n",
    "    return True\n",
    "\n",
    "def combinations_without_adjacent_duplicates(vertices, depth):\n",
    "    'Returns all possible sequences without adjacent duplicate vertices of given length (here called depth)'\n",
    "    all_sequences = itertools.product(vertices, repeat=depth)\n",
    "    return [sequence for sequence in all_sequences if no_adjacent_duplicates(sequence)]"
   ]
  },
  {
   "cell_type": "markdown",
   "id": "b5d98455",
   "metadata": {},
   "source": [
    "An example set of possible mutation sequences of length 2, with 4 possible choices of vertex. For example $(1,2)$ means we can do $\\mu_2\\mu_1(Q)$"
   ]
  },
  {
   "cell_type": "code",
   "execution_count": 7,
   "id": "37a2d1ed",
   "metadata": {},
   "outputs": [
    {
     "data": {
      "text/plain": [
       "[(1, 2),\n",
       " (1, 3),\n",
       " (1, 4),\n",
       " (2, 1),\n",
       " (2, 3),\n",
       " (2, 4),\n",
       " (3, 1),\n",
       " (3, 2),\n",
       " (3, 4),\n",
       " (4, 1),\n",
       " (4, 2),\n",
       " (4, 3)]"
      ]
     },
     "execution_count": 7,
     "metadata": {},
     "output_type": "execute_result"
    }
   ],
   "source": [
    "combinations_without_adjacent_duplicates([1,2,3,4], 2)"
   ]
  },
  {
   "cell_type": "markdown",
   "id": "365cc50f",
   "metadata": {},
   "source": [
    "# Quivers obtained from all possible mutation sequences\n",
    "\n",
    "We apply the mutation sequences found above to find all quivers that can be obtained by any mutation sequence (up to a given length) applied to an initial quiver "
   ]
  },
  {
   "cell_type": "code",
   "execution_count": 8,
   "id": "5e5878bb",
   "metadata": {},
   "outputs": [],
   "source": [
    "def equivalent_quivers(quiver, depth):\n",
    "    '''\n",
    "    Returns a dictionary of quivers equivalent to the initial one. The dictionary values are the quivers and the keys\n",
    "    are the mutation sequences. The initial key is just an empty pair of brackets (). The keys for quivers obtained by\n",
    "    a single mutation are of the form (k,) [note the comma]. For longer sequences the keys are of the form (i, j, k) \n",
    "    [note the commas and blank spaces]\n",
    "    '''\n",
    "    pairs = {\"()\":quiver}\n",
    "    vertices = range(quiver.shape[0])\n",
    "    \n",
    "    for i in tqdm(range(1, depth+1)):\n",
    "        combs = combinations_without_adjacent_duplicates(vertices, i)\n",
    "        for comb in combs:\n",
    "            previous_quiver = pairs[repr(comb[:-1])]\n",
    "            new_quiver = mutate(previous_quiver, comb[-1])\n",
    "            pairs[repr(comb)] = new_quiver\n",
    "    return pairs"
   ]
  },
  {
   "cell_type": "markdown",
   "id": "46b3724f",
   "metadata": {},
   "source": [
    "We now have a dictionary with equivalent quivers. We can use the mutation sequences as keys to obtain the quivers. Note the strict key format"
   ]
  },
  {
   "cell_type": "code",
   "execution_count": 9,
   "id": "87d322b6",
   "metadata": {},
   "outputs": [
    {
     "name": "stderr",
     "output_type": "stream",
     "text": [
      "0it [00:00, ?it/s]\n"
     ]
    },
    {
     "name": "stdout",
     "output_type": "stream",
     "text": [
      "0.00621630500000947\n"
     ]
    },
    {
     "name": "stderr",
     "output_type": "stream",
     "text": [
      "100%|███████████████████████████████████████████████████████████████████████████████████| 1/1 [00:00<00:00, 2366.99it/s]\n"
     ]
    },
    {
     "name": "stdout",
     "output_type": "stream",
     "text": [
      "0.003077653999980612\n"
     ]
    },
    {
     "name": "stderr",
     "output_type": "stream",
     "text": [
      "100%|████████████████████████████████████████████████████████████████████████████████████| 2/2 [00:00<00:00, 936.54it/s]"
     ]
    },
    {
     "name": "stdout",
     "output_type": "stream",
     "text": [
      "0.00432520200001818\n"
     ]
    },
    {
     "name": "stderr",
     "output_type": "stream",
     "text": [
      "\n"
     ]
    }
   ],
   "source": [
    "for i in range(3):\n",
    "    start_time = timeit.default_timer()\n",
    "    equivalent_quivers(quiver1, i)\n",
    "    print(timeit.default_timer() - start_time)"
   ]
  },
  {
   "cell_type": "code",
   "execution_count": 10,
   "id": "d517e9f6",
   "metadata": {},
   "outputs": [
    {
     "name": "stderr",
     "output_type": "stream",
     "text": [
      "100%|████████████████████████████████████████████████████████████████████████████████████| 2/2 [00:00<00:00, 822.65it/s]\n"
     ]
    },
    {
     "data": {
      "text/plain": [
       "array([[ 0,  1, -1,  0, -1,  1],\n",
       "       [-1,  0,  2, -1,  1, -1],\n",
       "       [ 1, -2,  0,  1,  1, -1],\n",
       "       [ 0,  1, -1,  0, -1,  1],\n",
       "       [ 1, -1, -1,  1,  0,  0],\n",
       "       [-1,  1,  1, -1,  0,  0]])"
      ]
     },
     "execution_count": 10,
     "metadata": {},
     "output_type": "execute_result"
    }
   ],
   "source": [
    "equivalent_quivers(quiver1, 2)['()']"
   ]
  },
  {
   "cell_type": "code",
   "execution_count": 11,
   "id": "a3c14118",
   "metadata": {},
   "outputs": [
    {
     "name": "stderr",
     "output_type": "stream",
     "text": [
      "100%|████████████████████████████████████████████████████████████████████████████████████| 2/2 [00:00<00:00, 846.91it/s]\n"
     ]
    },
    {
     "data": {
      "text/plain": [
       "array([[ 0., -1.,  1.,  0.,  1., -1.],\n",
       "       [ 1.,  0.,  1., -1.,  0., -1.],\n",
       "       [-1., -1.,  0.,  1.,  1.,  0.],\n",
       "       [ 0.,  1., -1.,  0., -1.,  1.],\n",
       "       [-1.,  0., -1.,  1.,  0.,  1.],\n",
       "       [ 1.,  1.,  0., -1., -1.,  0.]])"
      ]
     },
     "execution_count": 11,
     "metadata": {},
     "output_type": "execute_result"
    }
   ],
   "source": [
    "equivalent_quivers(quiver1, 2)['(0,)']"
   ]
  },
  {
   "cell_type": "code",
   "execution_count": 12,
   "id": "4b11d20b",
   "metadata": {
    "scrolled": true
   },
   "outputs": [
    {
     "name": "stderr",
     "output_type": "stream",
     "text": [
      "100%|████████████████████████████████████████████████████████████████████████████████████| 2/2 [00:00<00:00, 870.46it/s]\n"
     ]
    },
    {
     "data": {
      "text/plain": [
       "array([[ 0.,  1.,  1., -1.,  1., -2.],\n",
       "       [-1., -0., -1.,  1., -0.,  1.],\n",
       "       [-1.,  1.,  0.,  0.,  1., -1.],\n",
       "       [ 1., -1.,  0.,  0., -1.,  1.],\n",
       "       [-1., -0., -1.,  1.,  0.,  1.],\n",
       "       [ 2., -1.,  1., -1., -1.,  0.]])"
      ]
     },
     "execution_count": 12,
     "metadata": {},
     "output_type": "execute_result"
    }
   ],
   "source": [
    "equivalent_quivers(quiver1, 2)['(0, 1)']"
   ]
  },
  {
   "cell_type": "markdown",
   "id": "668b316c",
   "metadata": {},
   "source": [
    "# Are two quivers equivalent?\n",
    "\n",
    "Given a pair of quivers, we are interested in finding out if we can obtain one by mutation the other. Actually we don't really mind if we relabel the vertices on either quiver.\n",
    "\n",
    "Obtaining a quiver by relabelling vertices is equivalent to conjugating its B-matrix by a permutation matrix. We write a function get_permutation that returns all possible relabelled B-matrices.\n",
    "\n",
    "We then use this to write a function that will check to see if there is a mutation sequence (up to a given length) applied to a first quiver that will give a permuation of a second quiver. Finally we have a function to determine which permutation this is, though it could have been determined as part of the mutation_sequences_between_quivers function"
   ]
  },
  {
   "cell_type": "code",
   "execution_count": 13,
   "id": "49a898e2",
   "metadata": {},
   "outputs": [],
   "source": [
    "def conjugate(mat1, mat2):\n",
    "    return np.matmul(np.matmul(mat1, mat2), np.linalg.inv(mat1))\n",
    "\n",
    "def get_permutations(quiver):\n",
    "    'Returns a list of all matrices given by conjugating quiver with a permutation matrix'\n",
    "    dim = quiver.shape[0]\n",
    "    permutation_mats = [np.array(mat) for mat in list(itertools.permutations(np.eye(dim)))]\n",
    "    return [conjugate(mat, quiver) for mat in permutation_mats]\n",
    "\n",
    "def mutation_sequences_between_quivers(quiver1, quiver2, depth, early_stop=True):\n",
    "    '''\n",
    "    Return a list of all possible mutation sequences, up to length \"depth\", that can be apply to quiver1 to give a \n",
    "    relabelling of quiver2. If early_stop is true this will stop as soon as it finds a sequence, otherwise it\n",
    "    will search for all possibilities\n",
    "    '''\n",
    "    results = []\n",
    "    quiver2_permutations = get_permutations(quiver2)\n",
    "    pairs = {\"()\":quiver1}\n",
    "    vertices = range(quiver1.shape[0])\n",
    "    \n",
    "    for i in tqdm(range(1, depth+1)):\n",
    "        combs = combinations_without_adjacent_duplicates(vertices, i)\n",
    "        for comb in combs:\n",
    "            previous_quiver = pairs[repr(comb[:-1])]\n",
    "            new_quiver = mutate(previous_quiver, comb[-1])\n",
    "            pairs[repr(comb)] = new_quiver\n",
    "            if any((new_quiver == quiver).all() for quiver in quiver2_permutations):\n",
    "                results.append(comb)\n",
    "                if early_stop:\n",
    "                    return results\n",
    "    return results\n",
    "\n",
    "def which_permutation(quiver1, quiver2):\n",
    "    dim = quiver1.shape[0]\n",
    "    permutation_mats = [np.array(mat) for mat in list(itertools.permutations(np.eye(dim)))]\n",
    "    pairs = [[np.matmul(np.matmul(mat, quiver1), np.linalg.inv(mat)), mat] for mat in permutation_mats]\n",
    "    return [pair[1] for pair in pairs if np.array_equal(pair[0], quiver2)]"
   ]
  },
  {
   "cell_type": "markdown",
   "id": "513ed6c7",
   "metadata": {},
   "source": [
    "An example, by default early_stop is set to false, we will just find the first sequence that works. This means that \n",
    "$$\n",
    "\\mu_2\\mu_0(Q_2) = \\sigma(Q_3)\n",
    "$$\n",
    "for a permutation $\\sigma$ which is not given by the function. We identify this below."
   ]
  },
  {
   "cell_type": "code",
   "execution_count": 14,
   "id": "504a123f",
   "metadata": {},
   "outputs": [
    {
     "name": "stderr",
     "output_type": "stream",
     "text": [
      " 33%|███████████████████████████▋                                                       | 1/3 [00:00<00:00, 1159.93it/s]\n"
     ]
    },
    {
     "data": {
      "text/plain": [
       "[(0, 2)]"
      ]
     },
     "execution_count": 14,
     "metadata": {},
     "output_type": "execute_result"
    }
   ],
   "source": [
    "quiver2 = np.array([\n",
    "    [ 0., -1.,  0.,  0.],\n",
    "    [ 1.,  0., -1.,  0.],\n",
    "    [ 0.,  1.,  0.,  1.],\n",
    "    [ 0.,  0., -1.,  0.]\n",
    "])\n",
    "\n",
    "quiver3 = np.array([\n",
    "    [ 0., -0.,  1.,  0.],\n",
    "    [-0., -0.,  1., -1.],\n",
    "    [-1., -1.,  0.,  0.],\n",
    "    [ 0.,  1.,  0.,  0.]\n",
    "])\n",
    "\n",
    "mutation_sequences_between_quivers(quiver2, quiver3, depth=3)"
   ]
  },
  {
   "cell_type": "markdown",
   "id": "e124f21c",
   "metadata": {},
   "source": [
    "If early_stop is set to false it will find all sequences that work, up to the given depth."
   ]
  },
  {
   "cell_type": "code",
   "execution_count": 15,
   "id": "12e6172d",
   "metadata": {},
   "outputs": [
    {
     "name": "stderr",
     "output_type": "stream",
     "text": [
      "100%|████████████████████████████████████████████████████████████████████████████████████| 3/3 [00:00<00:00, 633.20it/s]\n"
     ]
    },
    {
     "data": {
      "text/plain": [
       "[(0, 2),\n",
       " (0, 3),\n",
       " (2, 0),\n",
       " (2, 1),\n",
       " (3, 0),\n",
       " (1, 0, 3),\n",
       " (1, 2, 1),\n",
       " (1, 3, 0),\n",
       " (3, 1, 0)]"
      ]
     },
     "execution_count": 15,
     "metadata": {},
     "output_type": "execute_result"
    }
   ],
   "source": [
    "mutation_sequences_between_quivers(quiver2, quiver3, depth=3, early_stop=False)"
   ]
  },
  {
   "cell_type": "markdown",
   "id": "becde8f4",
   "metadata": {},
   "source": [
    "Let's check that this actually works. We look at the first sequence"
   ]
  },
  {
   "cell_type": "code",
   "execution_count": 16,
   "id": "c96ea195",
   "metadata": {},
   "outputs": [
    {
     "data": {
      "text/plain": [
       "array([[ 0.,  1.,  0.,  0.],\n",
       "       [-1.,  0.,  1.,  0.],\n",
       "       [ 0., -1., -0., -1.],\n",
       "       [-0.,  0.,  1.,  0.]])"
      ]
     },
     "execution_count": 16,
     "metadata": {},
     "output_type": "execute_result"
    }
   ],
   "source": [
    "mutation_sequence(quiver2, [0, 2])"
   ]
  },
  {
   "cell_type": "markdown",
   "id": "19e44a10",
   "metadata": {},
   "source": [
    "The which_permuation function gives us the permuation that, applied to the first argument, gives the second. Here we can see that $Q_3$ and $\\mu_2\\mu_0(Q_1)$ are the same, up to permutation"
   ]
  },
  {
   "cell_type": "code",
   "execution_count": 17,
   "id": "c7abbe32",
   "metadata": {},
   "outputs": [
    {
     "data": {
      "text/plain": [
       "[array([[0., 0., 0., 1.],\n",
       "        [0., 1., 0., 0.],\n",
       "        [0., 0., 1., 0.],\n",
       "        [1., 0., 0., 0.]])]"
      ]
     },
     "execution_count": 17,
     "metadata": {},
     "output_type": "execute_result"
    }
   ],
   "source": [
    "sigma = which_permutation(quiver3, mutation_sequence(quiver2, [0, 2]))\n",
    "sigma"
   ]
  },
  {
   "cell_type": "markdown",
   "id": "1f77e975",
   "metadata": {},
   "source": [
    "Finally we can see $\\sigma(Q_3)$ and compare this with $\\mu_2\\mu_0(Q_1)$ above"
   ]
  },
  {
   "cell_type": "code",
   "execution_count": 18,
   "id": "37971fd8",
   "metadata": {},
   "outputs": [
    {
     "data": {
      "text/plain": [
       "array([[[ 0.,  1.,  0.,  0.],\n",
       "        [-1.,  0.,  1.,  0.],\n",
       "        [ 0., -1.,  0., -1.],\n",
       "        [ 0.,  0.,  1.,  0.]]])"
      ]
     },
     "execution_count": 18,
     "metadata": {},
     "output_type": "execute_result"
    }
   ],
   "source": [
    "conjugate(sigma, quiver3)"
   ]
  },
  {
   "cell_type": "markdown",
   "id": "599f357e",
   "metadata": {},
   "source": [
    "# Periodic quivers\n",
    "\n",
    "A quiver is said to be periodic if it is fixed by a mutation sequence (up to permutation). This fits in nicely with the functions we have defined above, we can simply use our mutation_sequences_between_quivers function, using the same quiver as both arguments."
   ]
  },
  {
   "cell_type": "markdown",
   "id": "40d3f51b",
   "metadata": {},
   "source": [
    "We can see that $Q_2$ is both period 2 and 3, with mutation sequences as given below."
   ]
  },
  {
   "cell_type": "code",
   "execution_count": 19,
   "id": "5cf3053c",
   "metadata": {},
   "outputs": [
    {
     "name": "stderr",
     "output_type": "stream",
     "text": [
      "100%|████████████████████████████████████████████████████████████████████████████████████| 3/3 [00:00<00:00, 460.02it/s]\n"
     ]
    },
    {
     "data": {
      "text/plain": [
       "[(0, 1), (2, 3), (1, 0, 1), (3, 2, 3)]"
      ]
     },
     "execution_count": 19,
     "metadata": {},
     "output_type": "execute_result"
    }
   ],
   "source": [
    "mutation_sequences_between_quivers(quiver2, quiver2, depth=3, early_stop=False)"
   ]
  }
 ],
 "metadata": {
  "kernelspec": {
   "display_name": "Python 3 (ipykernel)",
   "language": "python",
   "name": "python3"
  },
  "language_info": {
   "codemirror_mode": {
    "name": "ipython",
    "version": 3
   },
   "file_extension": ".py",
   "mimetype": "text/x-python",
   "name": "python",
   "nbconvert_exporter": "python",
   "pygments_lexer": "ipython3",
   "version": "3.10.12"
  }
 },
 "nbformat": 4,
 "nbformat_minor": 5
}
